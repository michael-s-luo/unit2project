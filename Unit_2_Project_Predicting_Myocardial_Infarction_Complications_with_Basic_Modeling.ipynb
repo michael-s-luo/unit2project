{
  "nbformat": 4,
  "nbformat_minor": 0,
  "metadata": {
    "colab": {
      "name": "Unit 2 Project_Predicting Myocardial Infarction Complications with Basic Modeling.ipynb",
      "provenance": [],
      "toc_visible": true
    },
    "kernelspec": {
      "name": "python3",
      "display_name": "Python 3"
    },
    "language_info": {
      "name": "python"
    }
  },
  "cells": [
    {
      "cell_type": "markdown",
      "metadata": {
        "id": "xReV5RVVKcy7"
      },
      "source": [
        "#Introduction"
      ]
    },
    {
      "cell_type": "markdown",
      "metadata": {
        "id": "ZjB9ls83Ke4s"
      },
      "source": [
        "This notebook is my first venture into basic modeling and analysis with pandas and various sklearn modules & packages.\n",
        "\n",
        "Link to the dataset: https://archive.ics.uci.edu/ml/datasets/Myocardial+infarction+complications \n",
        "\n",
        "This dataset contains 1700 rows and 124 columns, of which 12 are complications of myocardial infarction (MI). This dataset contains information of patients who survived acute MI long enough to be admitted to the ICU and assessed by the emergency cardiology team. Each row has one patient's basic information, history, lab values and findings, medications given, and MI complications/outcome. Of note, most of this information was collected during the first day of hospital admittance *without* any time related data (eg. what medication was administered as opposed to *what and when*)\n",
        "\n",
        "The goal is to predict MI complications with information of admitted patients by the end of the *first day* only with the first preliminary information available to gain insight on a patient's prognosis as soon as possible."
      ]
    },
    {
      "cell_type": "markdown",
      "metadata": {
        "id": "OKejz_0AgjWX"
      },
      "source": [
        "#Packages"
      ]
    },
    {
      "cell_type": "code",
      "metadata": {
        "id": "XISd1lKtXVKQ"
      },
      "source": [
        "!pip install category_encoders==2.*"
      ],
      "execution_count": null,
      "outputs": []
    },
    {
      "cell_type": "code",
      "metadata": {
        "id": "-dc3OUa3JXVM",
        "colab": {
          "base_uri": "https://localhost:8080/"
        },
        "outputId": "534762a1-ee45-420e-d27e-bc40ae0d6b4f"
      },
      "source": [
        "import pandas as pd\n",
        "import numpy as np\n",
        "\n",
        "#visualization\n",
        "import matplotlib.pyplot as plt\n",
        "import seaborn as sns\n",
        "\n",
        "#wrangling, encoding, preprocessing\n",
        "from category_encoders import OrdinalEncoder\n",
        "from sklearn.impute import SimpleImputer\n",
        "from sklearn.preprocessing import StandardScaler\n",
        "\n",
        "#model selection\n",
        "from sklearn.model_selection import train_test_split\n",
        "from sklearn.model_selection import cross_val_score, StratifiedKFold, GridSearchCV, RandomizedSearchCV\n",
        "\n",
        "#pipeline & modelling\n",
        "from sklearn.pipeline import make_pipeline\n",
        "from sklearn.ensemble import RandomForestClassifier\n",
        "from sklearn.linear_model import LogisticRegression\n",
        "from sklearn.neighbors import KNeighborsClassifier\n",
        "\n",
        "#metrics\n",
        "from sklearn.metrics import plot_confusion_matrix, classification_report\n",
        "from sklearn.metrics import roc_curve, roc_auc_score, plot_roc_curve\n"
      ],
      "execution_count": 2,
      "outputs": [
        {
          "output_type": "stream",
          "name": "stderr",
          "text": [
            "/usr/local/lib/python3.7/dist-packages/statsmodels/tools/_testing.py:19: FutureWarning: pandas.util.testing is deprecated. Use the functions in the public API at pandas.testing instead.\n",
            "  import pandas.util.testing as tm\n"
          ]
        }
      ]
    },
    {
      "cell_type": "code",
      "metadata": {
        "id": "zfOoNyflJnK_"
      },
      "source": [
        "df = pd.read_csv('MI_dataset.csv')"
      ],
      "execution_count": 112,
      "outputs": []
    },
    {
      "cell_type": "markdown",
      "metadata": {
        "id": "tycRPFdGKwPm"
      },
      "source": [
        "#Importing & Wrangling Data"
      ]
    },
    {
      "cell_type": "markdown",
      "metadata": {
        "id": "u0-71dVRK4cd"
      },
      "source": [
        "The time of admission to hospital: all input columns (2-112) except\n",
        "\n",
        "\n",
        "*   93: R_AB_1_n\n",
        "*   94: R_AB_2_n\n",
        "*   95: R_AB_3_n\n",
        "*   100: NA_R_1_n\n",
        "*   101: NA_R_2_n\n",
        "*   102: NA_R_3_n\n",
        "*   103: NOT_NA_1_n\n",
        "*   104: NOT_NA_1_n\n",
        "*   105: NOT_NA_1_n\n",
        "\n",
        "Can be used for prediction; "
      ]
    },
    {
      "cell_type": "code",
      "metadata": {
        "id": "qvlRjLQgLlcK"
      },
      "source": [
        "def wrangle(df):\n",
        "  #copy df\n",
        "  df_wrangled = df.copy(deep=True)\n",
        "\n",
        "  #uppercase all column names\n",
        "  df_wrangled.columns = df.columns.str.upper()\n",
        "  \n",
        "  #drop columns not used for prediction\n",
        "  cols = df_wrangled.columns\n",
        "  drop_cols_index = [93, 94, 100, 101, 103, 104]\n",
        "  cols_to_drop = [cols[i]for i in drop_cols_index]\n",
        "  df_wrangled.drop(columns=cols_to_drop, inplace=True)\n",
        "  print(f'Dropped Columns: {cols_to_drop}')\n",
        "\n",
        "  #drop HCC/unique columns\n",
        "  df_wrangled.drop(columns=['ID'], inplace=True)\n",
        "\n",
        "  #drop majority null features (>90%)\n",
        "  null_counts = df_wrangled.isnull().sum()\n",
        "  cols_nulls = list(null_counts[null_counts > (len(df) * 0.90)].index)\n",
        "  df_wrangled.drop(columns=cols_nulls, inplace=True)\n",
        "  print(f'>90% null columns: {cols_nulls}')\n",
        "\n",
        "  #(1) any complication, (2) any fibrinolytic therapy, feature(s)\n",
        "  df_wrangled['MED_FIBR'] = df_wrangled.loc[:, 'FIBR_TER_01':'FIBR_TER_08'].sum(axis=1).apply(lambda x: 1 if x >= 1 else 0)\n",
        "  df_wrangled['ANY_COMPLICATION'] = df_wrangled.loc[:,'FIBR_PREDS':'LET_IS'].sum(axis=1).apply(lambda x: 1 if x >= 1 else 0)\n",
        "  df_wrangled['MED_OPIOID'] = df_wrangled.loc[:,['NA_KB', 'NA_R_1_N']].sum(axis=1).apply(lambda x: 1 if x >= 1 else 0)\n",
        "  df_wrangled['MED_NSAID'] = df_wrangled.loc[:, ['NOT_NA_KB', 'NOT_NA_1_N']].sum(axis=1).apply(lambda x: 1 if x >= 1 else 0)\n",
        "  df_wrangled['MED_PAIN'] = df_wrangled.loc[:,['NA_KB', 'NA_R_1_N', 'NOT_NA_KB', 'NOT_NA_1_N', 'LID_KB']].sum(axis=1).apply(lambda x: 1 if x >= 1 else 0)\n",
        " \n",
        "\n",
        "  # #change categorical columns to object, numericals as float\n",
        "  # df = df.astype(object)\n",
        "  # cols_numeric = list((df_mi.nunique() > 10)[(df_mi.nunique() > 10) == True].index)\n",
        "  # df[cols_numeric] = df[cols_numeric].astype(float)\n",
        "  # print(f'Numeric columns: {cols_numeric}')\n",
        "  \n",
        "  return df_wrangled\n",
        "\n"
      ],
      "execution_count": 113,
      "outputs": []
    },
    {
      "cell_type": "code",
      "metadata": {
        "colab": {
          "base_uri": "https://localhost:8080/"
        },
        "id": "x7siYdaDK2EC",
        "outputId": "bdd8280c-6ddc-4f96-abfa-3bc72a3457f4"
      },
      "source": [
        "df_mi = wrangle(df)"
      ],
      "execution_count": 114,
      "outputs": [
        {
          "output_type": "stream",
          "name": "stdout",
          "text": [
            "Dropped Columns: ['R_AB_2_N', 'R_AB_3_N', 'NA_R_2_N', 'NA_R_3_N', 'NOT_NA_2_N', 'NOT_NA_3_N']\n",
            ">90% null columns: ['IBS_NASL', 'KFK_BLOOD']\n"
          ]
        }
      ]
    },
    {
      "cell_type": "code",
      "metadata": {
        "colab": {
          "base_uri": "https://localhost:8080/",
          "height": 405
        },
        "id": "QSXE3CjaBM37",
        "outputId": "f7a85774-be29-44dd-cafe-f66a292019cc"
      },
      "source": [
        "df_mi.loc[:, 'MED_FIBR':'MED_PAIN'].hist()"
      ],
      "execution_count": 118,
      "outputs": [
        {
          "output_type": "execute_result",
          "data": {
            "text/plain": [
              "array([[<matplotlib.axes._subplots.AxesSubplot object at 0x7f3d6cd7a090>,\n",
              "        <matplotlib.axes._subplots.AxesSubplot object at 0x7f3d8c15c390>],\n",
              "       [<matplotlib.axes._subplots.AxesSubplot object at 0x7f3d8c110990>,\n",
              "        <matplotlib.axes._subplots.AxesSubplot object at 0x7f3d8c0c4f90>],\n",
              "       [<matplotlib.axes._subplots.AxesSubplot object at 0x7f3d8c0855d0>,\n",
              "        <matplotlib.axes._subplots.AxesSubplot object at 0x7f3d8c0bdbd0>]],\n",
              "      dtype=object)"
            ]
          },
          "metadata": {},
          "execution_count": 118
        },
        {
          "output_type": "display_data",
          "data": {
            "image/png": "[encoded data removed]",
            "text/plain": [
              "<Figure size 432x288 with 6 Axes>"
            ]
          },
          "metadata": {
            "needs_background": "light"
          }
        }
      ]
    },
    {
      "cell_type": "code",
      "metadata": {
        "id": "3_naszFOreum"
      },
      "source": [
        "#check for majority null (>90%) features\n",
        "#df_mi.isnull().sum()[df_mi.isnull().sum() > (len(df_mi) * 0.90)]\n",
        "\n",
        "#IBS_NASL: CHD heredity\n",
        "#KFK_BLOOD: Serum CPK content"
      ],
      "execution_count": null,
      "outputs": []
    },
    {
      "cell_type": "markdown",
      "metadata": {
        "id": "m9X0b77eZEmk"
      },
      "source": [
        "#Target: any complication\n",
        "Binary target column: ANY_COMPLICATION (by end of follow-up/subacute period)\n",
        "Includes:\n",
        "* x\n",
        "* y\n",
        "* z\n",
        "\n"
      ]
    },
    {
      "cell_type": "code",
      "metadata": {
        "id": "DvXu42yOZkEE"
      },
      "source": [
        "#all target columns\n",
        "targets = ['FIBR_PREDS', 'PREDS_TAH', 'JELUD_TAH', 'FIBR_JELUD', 'A_V_BLOK', \n",
        "           'OTEK_LANC', 'RAZRIV', 'DRESSLER', 'ZSN', 'REC_IM', 'P_IM_STEN', 'LET_IS', 'ANY_COMPLICATION']"
      ],
      "execution_count": 119,
      "outputs": []
    },
    {
      "cell_type": "code",
      "metadata": {
        "id": "oIbyWK7vpF3I",
        "colab": {
          "base_uri": "https://localhost:8080/"
        },
        "outputId": "8e49635a-f779-460b-ca46-293a56554f5e"
      },
      "source": [
        "#Split into train and testing sets\n",
        "y = df_mi['ANY_COMPLICATION']\n",
        "X = df_mi.drop(columns=targets)\n",
        "X_train, X_test, y_train, y_test = train_test_split(X, y, test_size=0.2, \n",
        "                                                    stratify=y, random_state=42)\n",
        "\n",
        "print(f'Size of training set: {X_train.shape[0]}')\n",
        "print(f'Size of testing set: {X_test.shape[0]}')"
      ],
      "execution_count": 120,
      "outputs": [
        {
          "output_type": "stream",
          "name": "stdout",
          "text": [
            "Size of training set: 1360\n",
            "Size of testing set: 340\n"
          ]
        }
      ]
    },
    {
      "cell_type": "code",
      "metadata": {
        "colab": {
          "base_uri": "https://localhost:8080/",
          "height": 438
        },
        "id": "Eb9iv5dvRjVU",
        "outputId": "b580d723-a70f-4530-fd5d-7e42ca5eadf5"
      },
      "source": [
        "X_train"
      ],
      "execution_count": 149,
      "outputs": [
        {
          "output_type": "execute_result",
          "data": {
            "text/html": [
              "<div>\n",
              "<style scoped>\n",
              "    .dataframe tbody tr th:only-of-type {\n",
              "        vertical-align: middle;\n",
              "    }\n",
              "\n",
              "    .dataframe tbody tr th {\n",
              "        vertical-align: top;\n",
              "    }\n",
              "\n",
              "    .dataframe thead th {\n",
              "        text-align: right;\n",
              "    }\n",
              "</style>\n",
              "<table border=\"1\" class=\"dataframe\">\n",
              "  <thead>\n",
              "    <tr style=\"text-align: right;\">\n",
              "      <th></th>\n",
              "      <th>AGE</th>\n",
              "      <th>SEX</th>\n",
              "      <th>INF_ANAM</th>\n",
              "      <th>STENOK_AN</th>\n",
              "      <th>FK_STENOK</th>\n",
              "      <th>IBS_POST</th>\n",
              "      <th>GB</th>\n",
              "      <th>SIM_GIPERT</th>\n",
              "      <th>DLIT_AG</th>\n",
              "      <th>ZSN_A</th>\n",
              "      <th>NR_11</th>\n",
              "      <th>NR_01</th>\n",
              "      <th>NR_02</th>\n",
              "      <th>NR_03</th>\n",
              "      <th>NR_04</th>\n",
              "      <th>NR_07</th>\n",
              "      <th>NR_08</th>\n",
              "      <th>NP_01</th>\n",
              "      <th>NP_04</th>\n",
              "      <th>NP_05</th>\n",
              "      <th>NP_07</th>\n",
              "      <th>NP_08</th>\n",
              "      <th>NP_09</th>\n",
              "      <th>NP_10</th>\n",
              "      <th>ENDOCR_01</th>\n",
              "      <th>ENDOCR_02</th>\n",
              "      <th>ENDOCR_03</th>\n",
              "      <th>ZAB_LEG_01</th>\n",
              "      <th>ZAB_LEG_02</th>\n",
              "      <th>ZAB_LEG_03</th>\n",
              "      <th>ZAB_LEG_04</th>\n",
              "      <th>ZAB_LEG_06</th>\n",
              "      <th>S_AD_KBRIG</th>\n",
              "      <th>D_AD_KBRIG</th>\n",
              "      <th>S_AD_ORIT</th>\n",
              "      <th>D_AD_ORIT</th>\n",
              "      <th>O_L_POST</th>\n",
              "      <th>K_SH_POST</th>\n",
              "      <th>MP_TP_POST</th>\n",
              "      <th>SVT_POST</th>\n",
              "      <th>...</th>\n",
              "      <th>N_P_ECG_P_07</th>\n",
              "      <th>N_P_ECG_P_08</th>\n",
              "      <th>N_P_ECG_P_09</th>\n",
              "      <th>N_P_ECG_P_10</th>\n",
              "      <th>N_P_ECG_P_11</th>\n",
              "      <th>N_P_ECG_P_12</th>\n",
              "      <th>FIBR_TER_01</th>\n",
              "      <th>FIBR_TER_02</th>\n",
              "      <th>FIBR_TER_03</th>\n",
              "      <th>FIBR_TER_05</th>\n",
              "      <th>FIBR_TER_06</th>\n",
              "      <th>FIBR_TER_07</th>\n",
              "      <th>FIBR_TER_08</th>\n",
              "      <th>GIPO_K</th>\n",
              "      <th>K_BLOOD</th>\n",
              "      <th>GIPER_NA</th>\n",
              "      <th>NA_BLOOD</th>\n",
              "      <th>ALT_BLOOD</th>\n",
              "      <th>AST_BLOOD</th>\n",
              "      <th>L_BLOOD</th>\n",
              "      <th>ROE</th>\n",
              "      <th>TIME_B_S</th>\n",
              "      <th>R_AB_1_N</th>\n",
              "      <th>NA_KB</th>\n",
              "      <th>NOT_NA_KB</th>\n",
              "      <th>LID_KB</th>\n",
              "      <th>NITR_S</th>\n",
              "      <th>NA_R_1_N</th>\n",
              "      <th>NOT_NA_1_N</th>\n",
              "      <th>LID_S_N</th>\n",
              "      <th>B_BLOK_S_N</th>\n",
              "      <th>ANT_CA_S_N</th>\n",
              "      <th>GEPAR_S_N</th>\n",
              "      <th>ASP_S_N</th>\n",
              "      <th>TIKL_S_N</th>\n",
              "      <th>TRENT_S_N</th>\n",
              "      <th>MED_FIBR</th>\n",
              "      <th>MED_OPIOID</th>\n",
              "      <th>MED_NSAID</th>\n",
              "      <th>MED_PAIN</th>\n",
              "    </tr>\n",
              "  </thead>\n",
              "  <tbody>\n",
              "    <tr>\n",
              "      <th>567</th>\n",
              "      <td>61.0</td>\n",
              "      <td>1</td>\n",
              "      <td>1.0</td>\n",
              "      <td>1.0</td>\n",
              "      <td>2.0</td>\n",
              "      <td>1.0</td>\n",
              "      <td>0.0</td>\n",
              "      <td>0.0</td>\n",
              "      <td>0.0</td>\n",
              "      <td>0.0</td>\n",
              "      <td>0.0</td>\n",
              "      <td>0.0</td>\n",
              "      <td>0.0</td>\n",
              "      <td>0.0</td>\n",
              "      <td>0.0</td>\n",
              "      <td>0.0</td>\n",
              "      <td>0.0</td>\n",
              "      <td>0.0</td>\n",
              "      <td>0.0</td>\n",
              "      <td>0.0</td>\n",
              "      <td>0.0</td>\n",
              "      <td>0.0</td>\n",
              "      <td>0.0</td>\n",
              "      <td>0.0</td>\n",
              "      <td>0.0</td>\n",
              "      <td>0.0</td>\n",
              "      <td>0.0</td>\n",
              "      <td>0.0</td>\n",
              "      <td>0.0</td>\n",
              "      <td>0.0</td>\n",
              "      <td>0.0</td>\n",
              "      <td>0.0</td>\n",
              "      <td>NaN</td>\n",
              "      <td>NaN</td>\n",
              "      <td>120.0</td>\n",
              "      <td>80.0</td>\n",
              "      <td>1.0</td>\n",
              "      <td>0.0</td>\n",
              "      <td>0.0</td>\n",
              "      <td>0.0</td>\n",
              "      <td>...</td>\n",
              "      <td>0.0</td>\n",
              "      <td>0.0</td>\n",
              "      <td>0.0</td>\n",
              "      <td>0.0</td>\n",
              "      <td>0.0</td>\n",
              "      <td>0.0</td>\n",
              "      <td>0.0</td>\n",
              "      <td>0.0</td>\n",
              "      <td>0.0</td>\n",
              "      <td>0.0</td>\n",
              "      <td>0.0</td>\n",
              "      <td>0.0</td>\n",
              "      <td>0.0</td>\n",
              "      <td>1.0</td>\n",
              "      <td>3.8</td>\n",
              "      <td>0.0</td>\n",
              "      <td>130.0</td>\n",
              "      <td>0.23</td>\n",
              "      <td>0.37</td>\n",
              "      <td>8.0</td>\n",
              "      <td>8.0</td>\n",
              "      <td>1.0</td>\n",
              "      <td>1.0</td>\n",
              "      <td>NaN</td>\n",
              "      <td>NaN</td>\n",
              "      <td>NaN</td>\n",
              "      <td>1.0</td>\n",
              "      <td>1.0</td>\n",
              "      <td>0.0</td>\n",
              "      <td>0.0</td>\n",
              "      <td>0.0</td>\n",
              "      <td>1.0</td>\n",
              "      <td>0.0</td>\n",
              "      <td>0.0</td>\n",
              "      <td>0.0</td>\n",
              "      <td>0.0</td>\n",
              "      <td>0</td>\n",
              "      <td>1</td>\n",
              "      <td>0</td>\n",
              "      <td>1</td>\n",
              "    </tr>\n",
              "    <tr>\n",
              "      <th>1618</th>\n",
              "      <td>73.0</td>\n",
              "      <td>0</td>\n",
              "      <td>1.0</td>\n",
              "      <td>6.0</td>\n",
              "      <td>2.0</td>\n",
              "      <td>2.0</td>\n",
              "      <td>2.0</td>\n",
              "      <td>0.0</td>\n",
              "      <td>NaN</td>\n",
              "      <td>NaN</td>\n",
              "      <td>0.0</td>\n",
              "      <td>0.0</td>\n",
              "      <td>0.0</td>\n",
              "      <td>0.0</td>\n",
              "      <td>0.0</td>\n",
              "      <td>0.0</td>\n",
              "      <td>0.0</td>\n",
              "      <td>0.0</td>\n",
              "      <td>0.0</td>\n",
              "      <td>0.0</td>\n",
              "      <td>0.0</td>\n",
              "      <td>0.0</td>\n",
              "      <td>0.0</td>\n",
              "      <td>0.0</td>\n",
              "      <td>0.0</td>\n",
              "      <td>0.0</td>\n",
              "      <td>0.0</td>\n",
              "      <td>0.0</td>\n",
              "      <td>1.0</td>\n",
              "      <td>0.0</td>\n",
              "      <td>0.0</td>\n",
              "      <td>0.0</td>\n",
              "      <td>NaN</td>\n",
              "      <td>NaN</td>\n",
              "      <td>200.0</td>\n",
              "      <td>90.0</td>\n",
              "      <td>1.0</td>\n",
              "      <td>0.0</td>\n",
              "      <td>0.0</td>\n",
              "      <td>0.0</td>\n",
              "      <td>...</td>\n",
              "      <td>NaN</td>\n",
              "      <td>NaN</td>\n",
              "      <td>NaN</td>\n",
              "      <td>NaN</td>\n",
              "      <td>NaN</td>\n",
              "      <td>NaN</td>\n",
              "      <td>0.0</td>\n",
              "      <td>0.0</td>\n",
              "      <td>0.0</td>\n",
              "      <td>0.0</td>\n",
              "      <td>0.0</td>\n",
              "      <td>0.0</td>\n",
              "      <td>0.0</td>\n",
              "      <td>NaN</td>\n",
              "      <td>NaN</td>\n",
              "      <td>NaN</td>\n",
              "      <td>NaN</td>\n",
              "      <td>0.30</td>\n",
              "      <td>0.22</td>\n",
              "      <td>11.5</td>\n",
              "      <td>7.0</td>\n",
              "      <td>8.0</td>\n",
              "      <td>0.0</td>\n",
              "      <td>0.0</td>\n",
              "      <td>1.0</td>\n",
              "      <td>0.0</td>\n",
              "      <td>0.0</td>\n",
              "      <td>0.0</td>\n",
              "      <td>0.0</td>\n",
              "      <td>0.0</td>\n",
              "      <td>0.0</td>\n",
              "      <td>0.0</td>\n",
              "      <td>0.0</td>\n",
              "      <td>0.0</td>\n",
              "      <td>0.0</td>\n",
              "      <td>0.0</td>\n",
              "      <td>0</td>\n",
              "      <td>0</td>\n",
              "      <td>1</td>\n",
              "      <td>1</td>\n",
              "    </tr>\n",
              "    <tr>\n",
              "      <th>1031</th>\n",
              "      <td>59.0</td>\n",
              "      <td>1</td>\n",
              "      <td>0.0</td>\n",
              "      <td>6.0</td>\n",
              "      <td>2.0</td>\n",
              "      <td>2.0</td>\n",
              "      <td>2.0</td>\n",
              "      <td>0.0</td>\n",
              "      <td>7.0</td>\n",
              "      <td>1.0</td>\n",
              "      <td>0.0</td>\n",
              "      <td>0.0</td>\n",
              "      <td>0.0</td>\n",
              "      <td>0.0</td>\n",
              "      <td>0.0</td>\n",
              "      <td>0.0</td>\n",
              "      <td>0.0</td>\n",
              "      <td>0.0</td>\n",
              "      <td>0.0</td>\n",
              "      <td>0.0</td>\n",
              "      <td>0.0</td>\n",
              "      <td>0.0</td>\n",
              "      <td>0.0</td>\n",
              "      <td>0.0</td>\n",
              "      <td>0.0</td>\n",
              "      <td>0.0</td>\n",
              "      <td>0.0</td>\n",
              "      <td>0.0</td>\n",
              "      <td>0.0</td>\n",
              "      <td>0.0</td>\n",
              "      <td>0.0</td>\n",
              "      <td>0.0</td>\n",
              "      <td>110.0</td>\n",
              "      <td>70.0</td>\n",
              "      <td>110.0</td>\n",
              "      <td>60.0</td>\n",
              "      <td>0.0</td>\n",
              "      <td>0.0</td>\n",
              "      <td>0.0</td>\n",
              "      <td>0.0</td>\n",
              "      <td>...</td>\n",
              "      <td>0.0</td>\n",
              "      <td>0.0</td>\n",
              "      <td>0.0</td>\n",
              "      <td>0.0</td>\n",
              "      <td>0.0</td>\n",
              "      <td>0.0</td>\n",
              "      <td>0.0</td>\n",
              "      <td>0.0</td>\n",
              "      <td>0.0</td>\n",
              "      <td>0.0</td>\n",
              "      <td>0.0</td>\n",
              "      <td>0.0</td>\n",
              "      <td>0.0</td>\n",
              "      <td>0.0</td>\n",
              "      <td>4.3</td>\n",
              "      <td>0.0</td>\n",
              "      <td>136.0</td>\n",
              "      <td>0.15</td>\n",
              "      <td>0.07</td>\n",
              "      <td>8.4</td>\n",
              "      <td>15.0</td>\n",
              "      <td>7.0</td>\n",
              "      <td>0.0</td>\n",
              "      <td>1.0</td>\n",
              "      <td>0.0</td>\n",
              "      <td>1.0</td>\n",
              "      <td>0.0</td>\n",
              "      <td>0.0</td>\n",
              "      <td>0.0</td>\n",
              "      <td>0.0</td>\n",
              "      <td>0.0</td>\n",
              "      <td>1.0</td>\n",
              "      <td>1.0</td>\n",
              "      <td>1.0</td>\n",
              "      <td>0.0</td>\n",
              "      <td>0.0</td>\n",
              "      <td>0</td>\n",
              "      <td>1</td>\n",
              "      <td>0</td>\n",
              "      <td>1</td>\n",
              "    </tr>\n",
              "    <tr>\n",
              "      <th>1147</th>\n",
              "      <td>62.0</td>\n",
              "      <td>0</td>\n",
              "      <td>1.0</td>\n",
              "      <td>3.0</td>\n",
              "      <td>1.0</td>\n",
              "      <td>1.0</td>\n",
              "      <td>0.0</td>\n",
              "      <td>0.0</td>\n",
              "      <td>0.0</td>\n",
              "      <td>0.0</td>\n",
              "      <td>0.0</td>\n",
              "      <td>0.0</td>\n",
              "      <td>0.0</td>\n",
              "      <td>0.0</td>\n",
              "      <td>0.0</td>\n",
              "      <td>0.0</td>\n",
              "      <td>0.0</td>\n",
              "      <td>0.0</td>\n",
              "      <td>0.0</td>\n",
              "      <td>0.0</td>\n",
              "      <td>0.0</td>\n",
              "      <td>0.0</td>\n",
              "      <td>0.0</td>\n",
              "      <td>0.0</td>\n",
              "      <td>0.0</td>\n",
              "      <td>0.0</td>\n",
              "      <td>0.0</td>\n",
              "      <td>0.0</td>\n",
              "      <td>0.0</td>\n",
              "      <td>0.0</td>\n",
              "      <td>0.0</td>\n",
              "      <td>0.0</td>\n",
              "      <td>120.0</td>\n",
              "      <td>80.0</td>\n",
              "      <td>140.0</td>\n",
              "      <td>80.0</td>\n",
              "      <td>0.0</td>\n",
              "      <td>0.0</td>\n",
              "      <td>0.0</td>\n",
              "      <td>0.0</td>\n",
              "      <td>...</td>\n",
              "      <td>0.0</td>\n",
              "      <td>0.0</td>\n",
              "      <td>0.0</td>\n",
              "      <td>0.0</td>\n",
              "      <td>1.0</td>\n",
              "      <td>0.0</td>\n",
              "      <td>0.0</td>\n",
              "      <td>0.0</td>\n",
              "      <td>0.0</td>\n",
              "      <td>0.0</td>\n",
              "      <td>0.0</td>\n",
              "      <td>0.0</td>\n",
              "      <td>0.0</td>\n",
              "      <td>0.0</td>\n",
              "      <td>4.5</td>\n",
              "      <td>0.0</td>\n",
              "      <td>136.0</td>\n",
              "      <td>0.61</td>\n",
              "      <td>0.22</td>\n",
              "      <td>8.0</td>\n",
              "      <td>2.0</td>\n",
              "      <td>3.0</td>\n",
              "      <td>1.0</td>\n",
              "      <td>0.0</td>\n",
              "      <td>1.0</td>\n",
              "      <td>0.0</td>\n",
              "      <td>0.0</td>\n",
              "      <td>2.0</td>\n",
              "      <td>0.0</td>\n",
              "      <td>0.0</td>\n",
              "      <td>1.0</td>\n",
              "      <td>0.0</td>\n",
              "      <td>1.0</td>\n",
              "      <td>0.0</td>\n",
              "      <td>0.0</td>\n",
              "      <td>0.0</td>\n",
              "      <td>0</td>\n",
              "      <td>1</td>\n",
              "      <td>1</td>\n",
              "      <td>1</td>\n",
              "    </tr>\n",
              "    <tr>\n",
              "      <th>828</th>\n",
              "      <td>53.0</td>\n",
              "      <td>1</td>\n",
              "      <td>0.0</td>\n",
              "      <td>1.0</td>\n",
              "      <td>1.0</td>\n",
              "      <td>2.0</td>\n",
              "      <td>0.0</td>\n",
              "      <td>0.0</td>\n",
              "      <td>0.0</td>\n",
              "      <td>0.0</td>\n",
              "      <td>0.0</td>\n",
              "      <td>0.0</td>\n",
              "      <td>0.0</td>\n",
              "      <td>0.0</td>\n",
              "      <td>0.0</td>\n",
              "      <td>0.0</td>\n",
              "      <td>0.0</td>\n",
              "      <td>0.0</td>\n",
              "      <td>0.0</td>\n",
              "      <td>0.0</td>\n",
              "      <td>0.0</td>\n",
              "      <td>0.0</td>\n",
              "      <td>0.0</td>\n",
              "      <td>0.0</td>\n",
              "      <td>0.0</td>\n",
              "      <td>0.0</td>\n",
              "      <td>0.0</td>\n",
              "      <td>0.0</td>\n",
              "      <td>0.0</td>\n",
              "      <td>0.0</td>\n",
              "      <td>0.0</td>\n",
              "      <td>0.0</td>\n",
              "      <td>NaN</td>\n",
              "      <td>NaN</td>\n",
              "      <td>NaN</td>\n",
              "      <td>NaN</td>\n",
              "      <td>0.0</td>\n",
              "      <td>0.0</td>\n",
              "      <td>0.0</td>\n",
              "      <td>0.0</td>\n",
              "      <td>...</td>\n",
              "      <td>0.0</td>\n",
              "      <td>0.0</td>\n",
              "      <td>0.0</td>\n",
              "      <td>0.0</td>\n",
              "      <td>0.0</td>\n",
              "      <td>1.0</td>\n",
              "      <td>0.0</td>\n",
              "      <td>0.0</td>\n",
              "      <td>0.0</td>\n",
              "      <td>0.0</td>\n",
              "      <td>0.0</td>\n",
              "      <td>0.0</td>\n",
              "      <td>0.0</td>\n",
              "      <td>0.0</td>\n",
              "      <td>4.0</td>\n",
              "      <td>0.0</td>\n",
              "      <td>146.0</td>\n",
              "      <td>0.90</td>\n",
              "      <td>0.82</td>\n",
              "      <td>12.1</td>\n",
              "      <td>19.0</td>\n",
              "      <td>7.0</td>\n",
              "      <td>0.0</td>\n",
              "      <td>0.0</td>\n",
              "      <td>0.0</td>\n",
              "      <td>0.0</td>\n",
              "      <td>0.0</td>\n",
              "      <td>1.0</td>\n",
              "      <td>0.0</td>\n",
              "      <td>1.0</td>\n",
              "      <td>0.0</td>\n",
              "      <td>0.0</td>\n",
              "      <td>1.0</td>\n",
              "      <td>0.0</td>\n",
              "      <td>0.0</td>\n",
              "      <td>1.0</td>\n",
              "      <td>0</td>\n",
              "      <td>1</td>\n",
              "      <td>0</td>\n",
              "      <td>1</td>\n",
              "    </tr>\n",
              "    <tr>\n",
              "      <th>...</th>\n",
              "      <td>...</td>\n",
              "      <td>...</td>\n",
              "      <td>...</td>\n",
              "      <td>...</td>\n",
              "      <td>...</td>\n",
              "      <td>...</td>\n",
              "      <td>...</td>\n",
              "      <td>...</td>\n",
              "      <td>...</td>\n",
              "      <td>...</td>\n",
              "      <td>...</td>\n",
              "      <td>...</td>\n",
              "      <td>...</td>\n",
              "      <td>...</td>\n",
              "      <td>...</td>\n",
              "      <td>...</td>\n",
              "      <td>...</td>\n",
              "      <td>...</td>\n",
              "      <td>...</td>\n",
              "      <td>...</td>\n",
              "      <td>...</td>\n",
              "      <td>...</td>\n",
              "      <td>...</td>\n",
              "      <td>...</td>\n",
              "      <td>...</td>\n",
              "      <td>...</td>\n",
              "      <td>...</td>\n",
              "      <td>...</td>\n",
              "      <td>...</td>\n",
              "      <td>...</td>\n",
              "      <td>...</td>\n",
              "      <td>...</td>\n",
              "      <td>...</td>\n",
              "      <td>...</td>\n",
              "      <td>...</td>\n",
              "      <td>...</td>\n",
              "      <td>...</td>\n",
              "      <td>...</td>\n",
              "      <td>...</td>\n",
              "      <td>...</td>\n",
              "      <td>...</td>\n",
              "      <td>...</td>\n",
              "      <td>...</td>\n",
              "      <td>...</td>\n",
              "      <td>...</td>\n",
              "      <td>...</td>\n",
              "      <td>...</td>\n",
              "      <td>...</td>\n",
              "      <td>...</td>\n",
              "      <td>...</td>\n",
              "      <td>...</td>\n",
              "      <td>...</td>\n",
              "      <td>...</td>\n",
              "      <td>...</td>\n",
              "      <td>...</td>\n",
              "      <td>...</td>\n",
              "      <td>...</td>\n",
              "      <td>...</td>\n",
              "      <td>...</td>\n",
              "      <td>...</td>\n",
              "      <td>...</td>\n",
              "      <td>...</td>\n",
              "      <td>...</td>\n",
              "      <td>...</td>\n",
              "      <td>...</td>\n",
              "      <td>...</td>\n",
              "      <td>...</td>\n",
              "      <td>...</td>\n",
              "      <td>...</td>\n",
              "      <td>...</td>\n",
              "      <td>...</td>\n",
              "      <td>...</td>\n",
              "      <td>...</td>\n",
              "      <td>...</td>\n",
              "      <td>...</td>\n",
              "      <td>...</td>\n",
              "      <td>...</td>\n",
              "      <td>...</td>\n",
              "      <td>...</td>\n",
              "      <td>...</td>\n",
              "      <td>...</td>\n",
              "    </tr>\n",
              "    <tr>\n",
              "      <th>480</th>\n",
              "      <td>70.0</td>\n",
              "      <td>0</td>\n",
              "      <td>1.0</td>\n",
              "      <td>5.0</td>\n",
              "      <td>2.0</td>\n",
              "      <td>1.0</td>\n",
              "      <td>2.0</td>\n",
              "      <td>0.0</td>\n",
              "      <td>NaN</td>\n",
              "      <td>0.0</td>\n",
              "      <td>0.0</td>\n",
              "      <td>0.0</td>\n",
              "      <td>0.0</td>\n",
              "      <td>0.0</td>\n",
              "      <td>0.0</td>\n",
              "      <td>0.0</td>\n",
              "      <td>0.0</td>\n",
              "      <td>0.0</td>\n",
              "      <td>0.0</td>\n",
              "      <td>0.0</td>\n",
              "      <td>0.0</td>\n",
              "      <td>0.0</td>\n",
              "      <td>0.0</td>\n",
              "      <td>0.0</td>\n",
              "      <td>0.0</td>\n",
              "      <td>0.0</td>\n",
              "      <td>0.0</td>\n",
              "      <td>0.0</td>\n",
              "      <td>0.0</td>\n",
              "      <td>0.0</td>\n",
              "      <td>0.0</td>\n",
              "      <td>0.0</td>\n",
              "      <td>NaN</td>\n",
              "      <td>NaN</td>\n",
              "      <td>170.0</td>\n",
              "      <td>100.0</td>\n",
              "      <td>0.0</td>\n",
              "      <td>0.0</td>\n",
              "      <td>0.0</td>\n",
              "      <td>0.0</td>\n",
              "      <td>...</td>\n",
              "      <td>0.0</td>\n",
              "      <td>0.0</td>\n",
              "      <td>0.0</td>\n",
              "      <td>0.0</td>\n",
              "      <td>0.0</td>\n",
              "      <td>0.0</td>\n",
              "      <td>0.0</td>\n",
              "      <td>0.0</td>\n",
              "      <td>0.0</td>\n",
              "      <td>0.0</td>\n",
              "      <td>0.0</td>\n",
              "      <td>0.0</td>\n",
              "      <td>0.0</td>\n",
              "      <td>0.0</td>\n",
              "      <td>4.2</td>\n",
              "      <td>0.0</td>\n",
              "      <td>140.0</td>\n",
              "      <td>0.38</td>\n",
              "      <td>0.22</td>\n",
              "      <td>3.8</td>\n",
              "      <td>7.0</td>\n",
              "      <td>9.0</td>\n",
              "      <td>0.0</td>\n",
              "      <td>NaN</td>\n",
              "      <td>NaN</td>\n",
              "      <td>NaN</td>\n",
              "      <td>0.0</td>\n",
              "      <td>0.0</td>\n",
              "      <td>0.0</td>\n",
              "      <td>0.0</td>\n",
              "      <td>1.0</td>\n",
              "      <td>1.0</td>\n",
              "      <td>0.0</td>\n",
              "      <td>1.0</td>\n",
              "      <td>0.0</td>\n",
              "      <td>0.0</td>\n",
              "      <td>0</td>\n",
              "      <td>0</td>\n",
              "      <td>0</td>\n",
              "      <td>0</td>\n",
              "    </tr>\n",
              "    <tr>\n",
              "      <th>1362</th>\n",
              "      <td>86.0</td>\n",
              "      <td>1</td>\n",
              "      <td>1.0</td>\n",
              "      <td>NaN</td>\n",
              "      <td>NaN</td>\n",
              "      <td>NaN</td>\n",
              "      <td>0.0</td>\n",
              "      <td>0.0</td>\n",
              "      <td>0.0</td>\n",
              "      <td>0.0</td>\n",
              "      <td>0.0</td>\n",
              "      <td>0.0</td>\n",
              "      <td>0.0</td>\n",
              "      <td>0.0</td>\n",
              "      <td>0.0</td>\n",
              "      <td>0.0</td>\n",
              "      <td>0.0</td>\n",
              "      <td>0.0</td>\n",
              "      <td>0.0</td>\n",
              "      <td>0.0</td>\n",
              "      <td>0.0</td>\n",
              "      <td>0.0</td>\n",
              "      <td>0.0</td>\n",
              "      <td>0.0</td>\n",
              "      <td>0.0</td>\n",
              "      <td>0.0</td>\n",
              "      <td>0.0</td>\n",
              "      <td>0.0</td>\n",
              "      <td>0.0</td>\n",
              "      <td>0.0</td>\n",
              "      <td>0.0</td>\n",
              "      <td>0.0</td>\n",
              "      <td>NaN</td>\n",
              "      <td>NaN</td>\n",
              "      <td>110.0</td>\n",
              "      <td>60.0</td>\n",
              "      <td>0.0</td>\n",
              "      <td>0.0</td>\n",
              "      <td>0.0</td>\n",
              "      <td>0.0</td>\n",
              "      <td>...</td>\n",
              "      <td>0.0</td>\n",
              "      <td>0.0</td>\n",
              "      <td>0.0</td>\n",
              "      <td>0.0</td>\n",
              "      <td>0.0</td>\n",
              "      <td>0.0</td>\n",
              "      <td>0.0</td>\n",
              "      <td>0.0</td>\n",
              "      <td>0.0</td>\n",
              "      <td>0.0</td>\n",
              "      <td>0.0</td>\n",
              "      <td>0.0</td>\n",
              "      <td>0.0</td>\n",
              "      <td>NaN</td>\n",
              "      <td>NaN</td>\n",
              "      <td>NaN</td>\n",
              "      <td>NaN</td>\n",
              "      <td>NaN</td>\n",
              "      <td>NaN</td>\n",
              "      <td>7.2</td>\n",
              "      <td>40.0</td>\n",
              "      <td>1.0</td>\n",
              "      <td>0.0</td>\n",
              "      <td>1.0</td>\n",
              "      <td>NaN</td>\n",
              "      <td>NaN</td>\n",
              "      <td>0.0</td>\n",
              "      <td>0.0</td>\n",
              "      <td>0.0</td>\n",
              "      <td>0.0</td>\n",
              "      <td>0.0</td>\n",
              "      <td>0.0</td>\n",
              "      <td>0.0</td>\n",
              "      <td>1.0</td>\n",
              "      <td>0.0</td>\n",
              "      <td>0.0</td>\n",
              "      <td>0</td>\n",
              "      <td>1</td>\n",
              "      <td>0</td>\n",
              "      <td>1</td>\n",
              "    </tr>\n",
              "    <tr>\n",
              "      <th>171</th>\n",
              "      <td>32.0</td>\n",
              "      <td>1</td>\n",
              "      <td>1.0</td>\n",
              "      <td>2.0</td>\n",
              "      <td>2.0</td>\n",
              "      <td>2.0</td>\n",
              "      <td>2.0</td>\n",
              "      <td>0.0</td>\n",
              "      <td>NaN</td>\n",
              "      <td>0.0</td>\n",
              "      <td>0.0</td>\n",
              "      <td>0.0</td>\n",
              "      <td>0.0</td>\n",
              "      <td>0.0</td>\n",
              "      <td>0.0</td>\n",
              "      <td>0.0</td>\n",
              "      <td>0.0</td>\n",
              "      <td>0.0</td>\n",
              "      <td>0.0</td>\n",
              "      <td>0.0</td>\n",
              "      <td>0.0</td>\n",
              "      <td>0.0</td>\n",
              "      <td>0.0</td>\n",
              "      <td>0.0</td>\n",
              "      <td>0.0</td>\n",
              "      <td>0.0</td>\n",
              "      <td>0.0</td>\n",
              "      <td>0.0</td>\n",
              "      <td>0.0</td>\n",
              "      <td>0.0</td>\n",
              "      <td>0.0</td>\n",
              "      <td>0.0</td>\n",
              "      <td>NaN</td>\n",
              "      <td>NaN</td>\n",
              "      <td>120.0</td>\n",
              "      <td>80.0</td>\n",
              "      <td>0.0</td>\n",
              "      <td>0.0</td>\n",
              "      <td>0.0</td>\n",
              "      <td>0.0</td>\n",
              "      <td>...</td>\n",
              "      <td>0.0</td>\n",
              "      <td>0.0</td>\n",
              "      <td>0.0</td>\n",
              "      <td>0.0</td>\n",
              "      <td>0.0</td>\n",
              "      <td>0.0</td>\n",
              "      <td>0.0</td>\n",
              "      <td>0.0</td>\n",
              "      <td>0.0</td>\n",
              "      <td>0.0</td>\n",
              "      <td>0.0</td>\n",
              "      <td>1.0</td>\n",
              "      <td>0.0</td>\n",
              "      <td>1.0</td>\n",
              "      <td>3.8</td>\n",
              "      <td>0.0</td>\n",
              "      <td>134.0</td>\n",
              "      <td>0.30</td>\n",
              "      <td>0.30</td>\n",
              "      <td>15.4</td>\n",
              "      <td>3.0</td>\n",
              "      <td>2.0</td>\n",
              "      <td>0.0</td>\n",
              "      <td>1.0</td>\n",
              "      <td>1.0</td>\n",
              "      <td>0.0</td>\n",
              "      <td>0.0</td>\n",
              "      <td>1.0</td>\n",
              "      <td>0.0</td>\n",
              "      <td>0.0</td>\n",
              "      <td>0.0</td>\n",
              "      <td>1.0</td>\n",
              "      <td>1.0</td>\n",
              "      <td>1.0</td>\n",
              "      <td>0.0</td>\n",
              "      <td>0.0</td>\n",
              "      <td>1</td>\n",
              "      <td>1</td>\n",
              "      <td>1</td>\n",
              "      <td>1</td>\n",
              "    </tr>\n",
              "    <tr>\n",
              "      <th>982</th>\n",
              "      <td>37.0</td>\n",
              "      <td>1</td>\n",
              "      <td>0.0</td>\n",
              "      <td>0.0</td>\n",
              "      <td>0.0</td>\n",
              "      <td>0.0</td>\n",
              "      <td>0.0</td>\n",
              "      <td>0.0</td>\n",
              "      <td>0.0</td>\n",
              "      <td>0.0</td>\n",
              "      <td>0.0</td>\n",
              "      <td>0.0</td>\n",
              "      <td>0.0</td>\n",
              "      <td>0.0</td>\n",
              "      <td>0.0</td>\n",
              "      <td>0.0</td>\n",
              "      <td>0.0</td>\n",
              "      <td>0.0</td>\n",
              "      <td>0.0</td>\n",
              "      <td>0.0</td>\n",
              "      <td>0.0</td>\n",
              "      <td>0.0</td>\n",
              "      <td>0.0</td>\n",
              "      <td>0.0</td>\n",
              "      <td>0.0</td>\n",
              "      <td>0.0</td>\n",
              "      <td>0.0</td>\n",
              "      <td>0.0</td>\n",
              "      <td>0.0</td>\n",
              "      <td>0.0</td>\n",
              "      <td>0.0</td>\n",
              "      <td>0.0</td>\n",
              "      <td>180.0</td>\n",
              "      <td>80.0</td>\n",
              "      <td>180.0</td>\n",
              "      <td>120.0</td>\n",
              "      <td>1.0</td>\n",
              "      <td>0.0</td>\n",
              "      <td>0.0</td>\n",
              "      <td>0.0</td>\n",
              "      <td>...</td>\n",
              "      <td>0.0</td>\n",
              "      <td>0.0</td>\n",
              "      <td>0.0</td>\n",
              "      <td>0.0</td>\n",
              "      <td>0.0</td>\n",
              "      <td>0.0</td>\n",
              "      <td>0.0</td>\n",
              "      <td>0.0</td>\n",
              "      <td>0.0</td>\n",
              "      <td>0.0</td>\n",
              "      <td>0.0</td>\n",
              "      <td>0.0</td>\n",
              "      <td>0.0</td>\n",
              "      <td>1.0</td>\n",
              "      <td>3.8</td>\n",
              "      <td>0.0</td>\n",
              "      <td>133.0</td>\n",
              "      <td>0.61</td>\n",
              "      <td>0.30</td>\n",
              "      <td>5.5</td>\n",
              "      <td>8.0</td>\n",
              "      <td>9.0</td>\n",
              "      <td>0.0</td>\n",
              "      <td>0.0</td>\n",
              "      <td>1.0</td>\n",
              "      <td>0.0</td>\n",
              "      <td>0.0</td>\n",
              "      <td>0.0</td>\n",
              "      <td>0.0</td>\n",
              "      <td>0.0</td>\n",
              "      <td>0.0</td>\n",
              "      <td>0.0</td>\n",
              "      <td>1.0</td>\n",
              "      <td>1.0</td>\n",
              "      <td>0.0</td>\n",
              "      <td>0.0</td>\n",
              "      <td>0</td>\n",
              "      <td>0</td>\n",
              "      <td>1</td>\n",
              "      <td>1</td>\n",
              "    </tr>\n",
              "    <tr>\n",
              "      <th>840</th>\n",
              "      <td>62.0</td>\n",
              "      <td>1</td>\n",
              "      <td>0.0</td>\n",
              "      <td>3.0</td>\n",
              "      <td>2.0</td>\n",
              "      <td>2.0</td>\n",
              "      <td>0.0</td>\n",
              "      <td>0.0</td>\n",
              "      <td>0.0</td>\n",
              "      <td>0.0</td>\n",
              "      <td>0.0</td>\n",
              "      <td>0.0</td>\n",
              "      <td>0.0</td>\n",
              "      <td>0.0</td>\n",
              "      <td>0.0</td>\n",
              "      <td>0.0</td>\n",
              "      <td>0.0</td>\n",
              "      <td>0.0</td>\n",
              "      <td>0.0</td>\n",
              "      <td>0.0</td>\n",
              "      <td>0.0</td>\n",
              "      <td>0.0</td>\n",
              "      <td>0.0</td>\n",
              "      <td>0.0</td>\n",
              "      <td>0.0</td>\n",
              "      <td>0.0</td>\n",
              "      <td>0.0</td>\n",
              "      <td>0.0</td>\n",
              "      <td>0.0</td>\n",
              "      <td>0.0</td>\n",
              "      <td>0.0</td>\n",
              "      <td>0.0</td>\n",
              "      <td>NaN</td>\n",
              "      <td>NaN</td>\n",
              "      <td>120.0</td>\n",
              "      <td>80.0</td>\n",
              "      <td>0.0</td>\n",
              "      <td>0.0</td>\n",
              "      <td>0.0</td>\n",
              "      <td>0.0</td>\n",
              "      <td>...</td>\n",
              "      <td>0.0</td>\n",
              "      <td>0.0</td>\n",
              "      <td>0.0</td>\n",
              "      <td>0.0</td>\n",
              "      <td>0.0</td>\n",
              "      <td>0.0</td>\n",
              "      <td>0.0</td>\n",
              "      <td>0.0</td>\n",
              "      <td>0.0</td>\n",
              "      <td>0.0</td>\n",
              "      <td>0.0</td>\n",
              "      <td>0.0</td>\n",
              "      <td>0.0</td>\n",
              "      <td>0.0</td>\n",
              "      <td>4.9</td>\n",
              "      <td>0.0</td>\n",
              "      <td>146.0</td>\n",
              "      <td>0.45</td>\n",
              "      <td>0.22</td>\n",
              "      <td>5.0</td>\n",
              "      <td>15.0</td>\n",
              "      <td>9.0</td>\n",
              "      <td>0.0</td>\n",
              "      <td>0.0</td>\n",
              "      <td>0.0</td>\n",
              "      <td>0.0</td>\n",
              "      <td>0.0</td>\n",
              "      <td>0.0</td>\n",
              "      <td>0.0</td>\n",
              "      <td>0.0</td>\n",
              "      <td>0.0</td>\n",
              "      <td>0.0</td>\n",
              "      <td>1.0</td>\n",
              "      <td>0.0</td>\n",
              "      <td>0.0</td>\n",
              "      <td>0.0</td>\n",
              "      <td>0</td>\n",
              "      <td>0</td>\n",
              "      <td>0</td>\n",
              "      <td>0</td>\n",
              "    </tr>\n",
              "  </tbody>\n",
              "</table>\n",
              "<p>1360 rows × 107 columns</p>\n",
              "</div>"
            ],
            "text/plain": [
              "       AGE  SEX  INF_ANAM  STENOK_AN  ...  MED_FIBR  MED_OPIOID  MED_NSAID  MED_PAIN\n",
              "567   61.0    1       1.0        1.0  ...         0           1          0         1\n",
              "1618  73.0    0       1.0        6.0  ...         0           0          1         1\n",
              "1031  59.0    1       0.0        6.0  ...         0           1          0         1\n",
              "1147  62.0    0       1.0        3.0  ...         0           1          1         1\n",
              "828   53.0    1       0.0        1.0  ...         0           1          0         1\n",
              "...    ...  ...       ...        ...  ...       ...         ...        ...       ...\n",
              "480   70.0    0       1.0        5.0  ...         0           0          0         0\n",
              "1362  86.0    1       1.0        NaN  ...         0           1          0         1\n",
              "171   32.0    1       1.0        2.0  ...         1           1          1         1\n",
              "982   37.0    1       0.0        0.0  ...         0           0          1         1\n",
              "840   62.0    1       0.0        3.0  ...         0           0          0         0\n",
              "\n",
              "[1360 rows x 107 columns]"
            ]
          },
          "metadata": {},
          "execution_count": 149
        }
      ]
    },
    {
      "cell_type": "markdown",
      "metadata": {
        "id": "uq5Ymc_WlZVL"
      },
      "source": [
        "##Baseline Accuracy"
      ]
    },
    {
      "cell_type": "markdown",
      "metadata": {
        "id": "gZOfYCLXOnO1"
      },
      "source": [
        "The baseline accuracy for a classification problem is simply the proportion of the majority class:"
      ]
    },
    {
      "cell_type": "code",
      "metadata": {
        "colab": {
          "base_uri": "https://localhost:8080/",
          "height": 295
        },
        "id": "SRMhffRAO-22",
        "outputId": "dadd561a-4f98-46c4-cd29-55197c424fdb"
      },
      "source": [
        "df_mi['ANY_COMPLICATION'].hist()\n",
        "plt.ylabel('Patient Count')\n",
        "plt.xlabel('Any Complication')\n",
        "plt.title('Distribution of ANY_COMPLICATION target')\n",
        "plt.grid()"
      ],
      "execution_count": 122,
      "outputs": [
        {
          "output_type": "display_data",
          "data": {
            "image/png": "[encoded data removed]",
            "text/plain": [
              "<Figure size 432x288 with 1 Axes>"
            ]
          },
          "metadata": {
            "needs_background": "light"
          }
        }
      ]
    },
    {
      "cell_type": "code",
      "metadata": {
        "id": "OJ5BTo5rZS9X",
        "colab": {
          "base_uri": "https://localhost:8080/"
        },
        "outputId": "9a7ed7a6-2312-4e12-b6f6-6a880dba9864"
      },
      "source": [
        "baseline_acc = df_mi['ANY_COMPLICATION'].value_counts(normalize=True).max()\n",
        "print(f'Baseline_accuracy: {baseline_acc}')"
      ],
      "execution_count": 123,
      "outputs": [
        {
          "output_type": "stream",
          "name": "stdout",
          "text": [
            "Baseline_accuracy: 0.61\n"
          ]
        }
      ]
    },
    {
      "cell_type": "markdown",
      "metadata": {
        "id": "K33CyQz_ZfTY"
      },
      "source": [
        "## Models"
      ]
    },
    {
      "cell_type": "markdown",
      "metadata": {
        "id": "tSL8vVAWmrGz"
      },
      "source": [
        "###Logistic Regression"
      ]
    },
    {
      "cell_type": "code",
      "metadata": {
        "id": "HehQ2FbJu49Y"
      },
      "source": [
        "#build model\n",
        "model_lr = make_pipeline(\n",
        "    SimpleImputer(strategy='mean'),\n",
        "    StandardScaler(),\n",
        "    LogisticRegression()\n",
        ")"
      ],
      "execution_count": 124,
      "outputs": []
    },
    {
      "cell_type": "code",
      "metadata": {
        "colab": {
          "base_uri": "https://localhost:8080/"
        },
        "id": "p-elfmAOnoXe",
        "outputId": "2f9bc121-1114-4d7a-cc59-563d80074764"
      },
      "source": [
        "#cross validate with StratifiedKFold\n",
        "s5fold = StratifiedKFold(n_splits=5, shuffle=True)\n",
        "cv_scores = cross_val_score(model_lr, X_train, y_train, cv=s5fold, scoring='accuracy')\n",
        "\n",
        "print(f'CV Scores for stratified 5-fold CV: {cv_scores}')\n",
        "print(f'Mean accuracy: {cv_scores.mean()}, STD: {cv_scores.std()}')\n",
        "print(f'Improvement over baseline: {cv_scores.mean() - baseline_acc}')"
      ],
      "execution_count": 125,
      "outputs": [
        {
          "output_type": "stream",
          "name": "stdout",
          "text": [
            "CV Scores for stratified 5-fold CV: [0.73897059 0.67647059 0.68382353 0.68382353 0.69852941]\n",
            "Mean accuracy: 0.6963235294117647, STD: 0.022495674324674055\n",
            "Improvement over baseline: 0.08632352941176469\n"
          ]
        }
      ]
    },
    {
      "cell_type": "code",
      "metadata": {
        "colab": {
          "base_uri": "https://localhost:8080/"
        },
        "id": "yrKeb_QDtOL5",
        "outputId": "c96a76ee-832c-42cc-9897-863528297281"
      },
      "source": [
        "#fit & test linear regression model\n",
        "model_lr.fit(X_train, y_train)\n",
        "train_accuracy = model_lr.score(X_train, y_train)\n",
        "test_accuracy = model_lr.score(X_test, y_test)\n",
        "\n",
        "print(f'Training accuracy: {train_accuracy}')\n",
        "print(f'Testing accuracy: {test_accuracy}')\n",
        "print(f'Improvement over baseline: {test_accuracy - baseline_acc}')\n"
      ],
      "execution_count": 126,
      "outputs": [
        {
          "output_type": "stream",
          "name": "stdout",
          "text": [
            "Training accuracy: 0.7441176470588236\n",
            "Testing accuracy: 0.7176470588235294\n",
            "Improvement over baseline: 0.10764705882352943\n"
          ]
        }
      ]
    },
    {
      "cell_type": "markdown",
      "metadata": {
        "id": "CQRkUEAAs8vW"
      },
      "source": [
        "### Random Forest"
      ]
    },
    {
      "cell_type": "code",
      "metadata": {
        "id": "0UD3osA7tAsI"
      },
      "source": [
        "#build barebones model\n",
        "model_rfc = make_pipeline(\n",
        "    SimpleImputer(),\n",
        "    RandomForestClassifier(n_jobs=-1)\n",
        ")\n",
        "\n",
        "# NAMED STEPS: \n",
        "# {'randomforestclassifier': RandomForestClassifier(),\n",
        "#  'simpleimputer': SimpleImputer()}"
      ],
      "execution_count": 128,
      "outputs": []
    },
    {
      "cell_type": "code",
      "metadata": {
        "id": "TY-q2vSk7N1J"
      },
      "source": [
        "#rscv hyperparameter tuning\n",
        "\n",
        "#total parameter permutations: 5600\n",
        "param_dist={\n",
        "    'simpleimputer__strategy': ['mean', 'median'],\n",
        "    'randomforestclassifier__n_estimators': range(100, 401, 50),\n",
        "    'randomforestclassifier__criterion':['gini', 'entropy'],\n",
        "    'randomforestclassifier__max_depth': range(5, 51, 5),\n",
        "    'randomforestclassifier__min_samples_split': range(2,11,2),\n",
        "    'randomforestclassifier__min_samples_leaf': range(1,5,1)\n",
        "}\n",
        "\n",
        "rscv_rfc = RandomizedSearchCV(model_rfc, param_dist, n_iter=750, cv=5, \n",
        "                           scoring='accuracy', verbose=1, n_jobs=-1)\n",
        "\n",
        "rscv_rfc.fit(X_train, y_train)"
      ],
      "execution_count": null,
      "outputs": []
    },
    {
      "cell_type": "code",
      "metadata": {
        "colab": {
          "base_uri": "https://localhost:8080/"
        },
        "id": "A6gM-qYm9OHI",
        "outputId": "250020fc-8cfc-4d1a-829e-857464fe0e12"
      },
      "source": [
        "print(f'Best RSCV accuracy score: {rscv_rfc.best_score_}')\n",
        "print(f'Best RSCV params: {rscv_rfc.best_params_}')"
      ],
      "execution_count": 130,
      "outputs": [
        {
          "output_type": "stream",
          "name": "stdout",
          "text": [
            "Best RSCV accuracy score: 0.7286764705882354\n",
            "Best RSCV params: {'simpleimputer__strategy': 'mean', 'randomforestclassifier__n_estimators': 200, 'randomforestclassifier__min_samples_split': 2, 'randomforestclassifier__min_samples_leaf': 2, 'randomforestclassifier__max_depth': 50, 'randomforestclassifier__criterion': 'gini'}\n"
          ]
        }
      ]
    },
    {
      "cell_type": "code",
      "metadata": {
        "id": "IwG-3v8GwBN_"
      },
      "source": [
        "#gscv hyperparameter tuning\n",
        "\n",
        "param_grid={\n",
        "    'simpleimputer__strategy': ['mean'],\n",
        "    'randomforestclassifier__n_estimators': [150, 200, 250, 300],\n",
        "    'randomforestclassifier__criterion':['gini'],\n",
        "    'randomforestclassifier__max_depth': range(20, 71, 5),\n",
        "    'randomforestclassifier__min_samples_split': range(2,6,2),\n",
        "    'randomforestclassifier__min_samples_leaf': (1,2,3)\n",
        "}\n",
        "\n",
        "gscv_rfc = GridSearchCV(model_rfc, param_grid, scoring='accuracy', cv=5, n_jobs=-1, verbose=1)\n",
        "gscv_rfc.fit(X_train, y_train)"
      ],
      "execution_count": null,
      "outputs": []
    },
    {
      "cell_type": "code",
      "metadata": {
        "colab": {
          "base_uri": "https://localhost:8080/"
        },
        "id": "0KWnNQcI2BNJ",
        "outputId": "9bda1b8b-2813-4585-f4ec-69d15ea8ce11"
      },
      "source": [
        "print(f'Best GSCV accuracy score: {gscv_rfc.best_score_}')\n",
        "print(f'Best GSCV params: {gscv_rfc.best_params_}')"
      ],
      "execution_count": 132,
      "outputs": [
        {
          "output_type": "stream",
          "name": "stdout",
          "text": [
            "Best GSCV accuracy score: 0.7257352941176471\n",
            "Best GSCV params: {'randomforestclassifier__criterion': 'gini', 'randomforestclassifier__max_depth': 20, 'randomforestclassifier__min_samples_leaf': 1, 'randomforestclassifier__min_samples_split': 2, 'randomforestclassifier__n_estimators': 300, 'simpleimputer__strategy': 'mean'}\n"
          ]
        }
      ]
    },
    {
      "cell_type": "code",
      "metadata": {
        "colab": {
          "base_uri": "https://localhost:8080/"
        },
        "id": "uHF78i1agU0k",
        "outputId": "c315dde1-f075-4ae3-eab8-95b5a68d76c2"
      },
      "source": [
        "#Final tuned model\n",
        "tuned_model_rfc = make_pipeline(\n",
        "    SimpleImputer(strategy='mean'),\n",
        "    RandomForestClassifier(n_estimators=300, max_depth=20, min_samples_leaf=1, min_samples_split=2, n_jobs=-1),\n",
        ")\n",
        "\n",
        "tuned_model_rfc.fit(X_train, y_train)\n",
        "\n",
        "print(f'Mean training accuracy: {tuned_model_rfc.score(X_train, y_train)}')\n",
        "print(f'Mean testing accuracy: {tuned_model_rfc.score(X_test, y_test)}')\n",
        "print(f'Average improvement over baseline: {tuned_model_rfc.score(X_test, y_test) - baseline_acc}')"
      ],
      "execution_count": 194,
      "outputs": [
        {
          "output_type": "stream",
          "name": "stdout",
          "text": [
            "Mean training accuracy: 1.0\n",
            "Mean testing accuracy: 0.7323529411764705\n",
            "Average improvement over baseline: 0.12235294117647055\n"
          ]
        }
      ]
    },
    {
      "cell_type": "markdown",
      "metadata": {
        "id": "xBu_G6Qu6Kbc"
      },
      "source": [
        "###K-Nearest Neighbors"
      ]
    },
    {
      "cell_type": "code",
      "metadata": {
        "id": "Mjx9B92XRGS_"
      },
      "source": [
        "#build model\n",
        "model_knn = make_pipeline(\n",
        "    SimpleImputer(),\n",
        "    KNeighborsClassifier(n_jobs=-1)\n",
        ")\n",
        "\n",
        "# {'kneighborsclassifier': KNeighborsClassifier(p=1, weights='distance'),\n",
        "#  'simpleimputer': SimpleImputer()}"
      ],
      "execution_count": 249,
      "outputs": []
    },
    {
      "cell_type": "code",
      "metadata": {
        "id": "peO17YOOTCT2"
      },
      "source": [
        "#gscv hyperparameter tuning\n",
        "\n",
        "#total parameter permutations:\n",
        "param_grid_knn={\n",
        "    'simpleimputer__strategy': ['mean', 'median'],\n",
        "    'kneighborsclassifier__p': [1,2],\n",
        "    'kneighborsclassifier__weights': ['distance', 'uniform'],\n",
        "    'kneighborsclassifier__n_neighbors': range(3,25,1)\n",
        "}\n",
        "\n",
        "gscv_knn = GridSearchCV(model_knn, param_grid_knn, cv=s5fold, \n",
        "                        scoring='accuracy', verbose=1, n_jobs=-1)\n",
        "\n",
        "gscv_knn.fit(X_train, y_train)"
      ],
      "execution_count": null,
      "outputs": []
    },
    {
      "cell_type": "code",
      "metadata": {
        "colab": {
          "base_uri": "https://localhost:8080/"
        },
        "id": "G19vLuxIX7Hb",
        "outputId": "2c332e2e-f9fa-4278-c861-710f9d626918"
      },
      "source": [
        "print(f'Best KNN GSCV accuracy score: {gscv_knn.best_score_}')\n",
        "print(f'Best KNN GSCV params: {gscv_knn.best_params_}')"
      ],
      "execution_count": 251,
      "outputs": [
        {
          "output_type": "stream",
          "name": "stdout",
          "text": [
            "Best KNN GSCV accuracy score: 0.6330882352941176\n",
            "Best KNN GSCV params: {'kneighborsclassifier__n_neighbors': 21, 'kneighborsclassifier__p': 2, 'kneighborsclassifier__weights': 'distance', 'simpleimputer__strategy': 'median'}\n"
          ]
        }
      ]
    },
    {
      "cell_type": "code",
      "metadata": {
        "colab": {
          "base_uri": "https://localhost:8080/"
        },
        "id": "C0RBIkVlYjlO",
        "outputId": "7acdd06f-03e1-493e-eae7-831534a1eb3e"
      },
      "source": [
        "tuned_model_knn = make_pipeline(\n",
        "    SimpleImputer(strategy='median'),\n",
        "    KNeighborsClassifier(n_neighbors=21, weights='distance', p=2)\n",
        ")\n",
        "\n",
        "tuned_model_knn.fit(X_train, y_train)\n",
        "\n",
        "train_accuracy_knn = tuned_model_knn.score(X_train, y_train)\n",
        "test_accuracy_knn = tuned_model_knn.score(X_test, y_test)\n",
        "\n",
        "print(f'KNN Training accuracy: {train_accuracy_knn}')\n",
        "print(f'KNN Testing accuracy: {test_accuracy_knn}')\n",
        "print(f'KNN Improvement over baseline: {test_accuracy_knn - baseline_acc}')"
      ],
      "execution_count": 252,
      "outputs": [
        {
          "output_type": "stream",
          "name": "stdout",
          "text": [
            "KNN Training accuracy: 1.0\n",
            "KNN Testing accuracy: 0.6058823529411764\n",
            "KNN Improvement over baseline: -0.004117647058823559\n"
          ]
        }
      ]
    },
    {
      "cell_type": "markdown",
      "metadata": {
        "id": "FPyJIGkQahyi"
      },
      "source": [
        "###Boosted Model"
      ]
    },
    {
      "cell_type": "code",
      "metadata": {
        "colab": {
          "base_uri": "https://localhost:8080/"
        },
        "id": "iU3l79RzkDbU",
        "outputId": "d03d2981-92e8-461f-d3f1-dd3068093925"
      },
      "source": [
        "from sklearn.ensemble import AdaBoostClassifier\n",
        "\n",
        "model_ada = make_pipeline(\n",
        "    SimpleImputer(),\n",
        "    AdaBoostClassifier()\n",
        ")\n",
        "\n",
        "#adacv hyperparameter tuning\n",
        "param_grid={\n",
        "    'simpleimputer__strategy': ['mean', 'median'],\n",
        "    'adaboostclassifier__n_estimators': range(50, 101, 20),\n",
        "    'adaboostclassifier__learning_rate': np.arange(0.1, 2.0, 0.2),\n",
        "}\n",
        "\n",
        "gscv_ada = GridSearchCV(model_ada, param_grid, scoring='accuracy', cv=s5fold, n_jobs=-1, verbose=1)\n",
        "gscv_ada.fit(X_train, y_train)\n",
        "\n",
        "print(f'Best GSCV accuracy score: {gscv_ada.best_score_}')\n",
        "print(f'Best GSCV params: {gscv_ada.best_params_}')"
      ],
      "execution_count": 245,
      "outputs": [
        {
          "output_type": "stream",
          "name": "stdout",
          "text": [
            "Fitting 5 folds for each of 60 candidates, totalling 300 fits\n",
            "Best GSCV accuracy score: 0.7058823529411764\n",
            "Best GSCV params: {'adaboostclassifier__learning_rate': 0.30000000000000004, 'adaboostclassifier__n_estimators': 70, 'simpleimputer__strategy': 'mean'}\n"
          ]
        }
      ]
    },
    {
      "cell_type": "code",
      "metadata": {
        "colab": {
          "base_uri": "https://localhost:8080/"
        },
        "id": "cY830DP8m0D7",
        "outputId": "05daacfe-db42-4af3-8265-e1c0a0ac18fb"
      },
      "source": [
        "tuned_ada = make_pipeline(\n",
        "    SimpleImputer(strategy='mean'),\n",
        "    AdaBoostClassifier(n_estimators=70, learning_rate=0.3)\n",
        ")\n",
        "\n",
        "tuned_ada.fit(X_train, y_train)\n",
        "\n",
        "train_accuracy_ada = tuned_ada.score(X_train, y_train)\n",
        "test_accuracy_ada = tuned_ada.score(X_test, y_test)\n",
        "\n",
        "print(f'Ada Training accuracy: {train_accuracy_ada}')\n",
        "print(f'Ada Testing accuracy: {test_accuracy_ada}')\n",
        "print(f'Ada Improvement over baseline: {test_accuracy_ada - baseline_acc}')\n"
      ],
      "execution_count": 253,
      "outputs": [
        {
          "output_type": "stream",
          "name": "stdout",
          "text": [
            "Ada Training accuracy: 0.7514705882352941\n",
            "Ada Testing accuracy: 0.7352941176470589\n",
            "Ada Improvement over baseline: 0.1252941176470589\n"
          ]
        }
      ]
    },
    {
      "cell_type": "markdown",
      "metadata": {
        "id": "C7Cxmige6VWV"
      },
      "source": [
        "## Metrics"
      ]
    },
    {
      "cell_type": "markdown",
      "metadata": {
        "id": "b1EHv8c-MiWW"
      },
      "source": [
        "### Logistic Regression"
      ]
    },
    {
      "cell_type": "code",
      "metadata": {
        "colab": {
          "base_uri": "https://localhost:8080/"
        },
        "id": "XFcYNdFI1w4A",
        "outputId": "3a1d8939-ab74-4cc8-b193-ef6373b1b086"
      },
      "source": [
        "df_lr_coefs.abs().sort_values(by='coef').tail(n=15).index"
      ],
      "execution_count": 314,
      "outputs": [
        {
          "output_type": "execute_result",
          "data": {
            "text/plain": [
              "Index(['FIBR_TER_02', 'NR_08', 'N_R_ECG_P_05', 'N_R_ECG_P_09', 'STENOK_AN',\n",
              "       'ANT_IM', 'NR_04', 'AGE', 'N_P_ECG_P_04', 'INF_IM', 'NITR_S',\n",
              "       'ZAB_LEG_02', 'ZSN_A', 'K_SH_POST', 'N_P_ECG_P_06'],\n",
              "      dtype='object')"
            ]
          },
          "metadata": {},
          "execution_count": 314
        }
      ]
    },
    {
      "cell_type": "code",
      "metadata": {
        "colab": {
          "base_uri": "https://localhost:8080/",
          "height": 531
        },
        "id": "mj0vgS2mN2D5",
        "outputId": "649333e0-c1f0-468e-f17d-005d2afe8e3f"
      },
      "source": [
        "\n",
        "#dataframe for top 15 coefficients by absolute value\n",
        "coefficients = model_lr.named_steps['logisticregression'].coef_.reshape(-1,1)\n",
        "df_lr_coefs = pd.DataFrame(data=coefficients, index=X_train.columns, columns=['coef'])\n",
        "df_lr_top20_coef = df_lr_coefs.abs().sort_values(by='coef').tail(n=20)\n",
        "# df_lr_top10_coef.index = ['FC_ANGINA', 'ECG_VT', 'ECG_SA_BLOCK', 'AN_ANGINA',\n",
        "#        'ECG_T12AV_BLOCK', 'ECG_AF_PAR', 'AN_HF', 'MI_ANT', 'AN_OCB', 'AGE',\n",
        "#        'NITR_S_ICU', 'MI_INF', 'STREPTOKINASE_1M', 'ICU_CARDS_SHOCK', 'ECG_3AV_BLOCK']\n",
        "\n",
        "#Plot top 15 features by coefficient absolute value\n",
        "fig, ax = plt.subplots(1,1, figsize=(8,8))\n",
        "df_lr_top10_coef.plot(kind='barh', ax=ax)\n",
        "ax.set_title('Logistic Regression: Top 20 Features Predicting MI Complications')\n",
        "ax.set_xlabel('Coefficient')\n",
        "ax.set_ylabel('Feature')"
      ],
      "execution_count": 313,
      "outputs": [
        {
          "output_type": "execute_result",
          "data": {
            "text/plain": [
              "Text(0, 0.5, 'Feature')"
            ]
          },
          "metadata": {},
          "execution_count": 313
        },
        {
          "output_type": "display_data",
          "data": {
            "image/png": "[encoded data removed]",
            "text/plain": [
              "<Figure size 576x576 with 1 Axes>"
            ]
          },
          "metadata": {
            "needs_background": "light"
          }
        }
      ]
    },
    {
      "cell_type": "code",
      "metadata": {
        "colab": {
          "base_uri": "https://localhost:8080/",
          "height": 495
        },
        "id": "Vg7pR5J3TftL",
        "outputId": "a5fa44b7-8f6a-4dd7-f585-3ad605cc1a5d"
      },
      "source": [
        "#confusion matrix\n",
        "\n",
        "plot_confusion_matrix(model_lr, X_test, y_test, display_labels=['None', 'Complication'])\n",
        "print(classification_report(y_test, model_lr.predict(X_test)))"
      ],
      "execution_count": 315,
      "outputs": [
        {
          "output_type": "stream",
          "name": "stderr",
          "text": [
            "/usr/local/lib/python3.7/dist-packages/sklearn/utils/deprecation.py:87: FutureWarning: Function plot_confusion_matrix is deprecated; Function `plot_confusion_matrix` is deprecated in 1.0 and will be removed in 1.2. Use one of the class methods: ConfusionMatrixDisplay.from_predictions or ConfusionMatrixDisplay.from_estimator.\n",
            "  warnings.warn(msg, category=FutureWarning)\n"
          ]
        },
        {
          "output_type": "stream",
          "name": "stdout",
          "text": [
            "              precision    recall  f1-score   support\n",
            "\n",
            "           0       0.64      0.65      0.64       133\n",
            "           1       0.77      0.76      0.77       207\n",
            "\n",
            "    accuracy                           0.72       340\n",
            "   macro avg       0.70      0.71      0.71       340\n",
            "weighted avg       0.72      0.72      0.72       340\n",
            "\n"
          ]
        },
        {
          "output_type": "display_data",
          "data": {
            "image/png": "[encoded data removed]",
            "text/plain": [
              "<Figure size 432x288 with 2 Axes>"
            ]
          },
          "metadata": {
            "needs_background": "light"
          }
        }
      ]
    },
    {
      "cell_type": "code",
      "metadata": {
        "colab": {
          "base_uri": "https://localhost:8080/",
          "height": 297
        },
        "id": "MMiPcWmdULM7",
        "outputId": "b44cbd53-55ba-45bf-f920-1325432dd048"
      },
      "source": [
        "#roc, auc\n",
        "fpr, tpr, thresholds = roc_curve(y_test, model_lr.predict_proba(X_test)[:,-1])\n",
        "\n",
        "df_lr_rocauc = pd.DataFrame({'false positive rate': fpr, 'true positive rate': tpr, 'thresholds': thresholds})\n",
        "df_lr_rocauc.plot(x='false positive rate', y='true positive rate')"
      ],
      "execution_count": 316,
      "outputs": [
        {
          "output_type": "execute_result",
          "data": {
            "text/plain": [
              "<matplotlib.axes._subplots.AxesSubplot at 0x7f3d6bdf2dd0>"
            ]
          },
          "metadata": {},
          "execution_count": 316
        },
        {
          "output_type": "display_data",
          "data": {
            "image/png": "[encoded data removed]",
            "text/plain": [
              "<Figure size 432x288 with 1 Axes>"
            ]
          },
          "metadata": {
            "needs_background": "light"
          }
        }
      ]
    },
    {
      "cell_type": "code",
      "metadata": {
        "colab": {
          "base_uri": "https://localhost:8080/",
          "height": 358
        },
        "id": "Oi_17SZEd0EH",
        "outputId": "b1883e3d-b02a-4382-85f1-84d212a48900"
      },
      "source": [
        "df_lr_rocauc.sort_values(by='true positive rate', ascending=True).head(10)"
      ],
      "execution_count": 317,
      "outputs": [
        {
          "output_type": "execute_result",
          "data": {
            "text/html": [
              "<div>\n",
              "<style scoped>\n",
              "    .dataframe tbody tr th:only-of-type {\n",
              "        vertical-align: middle;\n",
              "    }\n",
              "\n",
              "    .dataframe tbody tr th {\n",
              "        vertical-align: top;\n",
              "    }\n",
              "\n",
              "    .dataframe thead th {\n",
              "        text-align: right;\n",
              "    }\n",
              "</style>\n",
              "<table border=\"1\" class=\"dataframe\">\n",
              "  <thead>\n",
              "    <tr style=\"text-align: right;\">\n",
              "      <th></th>\n",
              "      <th>false positive rate</th>\n",
              "      <th>true positive rate</th>\n",
              "      <th>thresholds</th>\n",
              "    </tr>\n",
              "  </thead>\n",
              "  <tbody>\n",
              "    <tr>\n",
              "      <th>0</th>\n",
              "      <td>0.000000</td>\n",
              "      <td>0.000000</td>\n",
              "      <td>1.999999</td>\n",
              "    </tr>\n",
              "    <tr>\n",
              "      <th>1</th>\n",
              "      <td>0.000000</td>\n",
              "      <td>0.004831</td>\n",
              "      <td>0.999999</td>\n",
              "    </tr>\n",
              "    <tr>\n",
              "      <th>2</th>\n",
              "      <td>0.000000</td>\n",
              "      <td>0.062802</td>\n",
              "      <td>0.999317</td>\n",
              "    </tr>\n",
              "    <tr>\n",
              "      <th>3</th>\n",
              "      <td>0.007519</td>\n",
              "      <td>0.062802</td>\n",
              "      <td>0.999281</td>\n",
              "    </tr>\n",
              "    <tr>\n",
              "      <th>4</th>\n",
              "      <td>0.007519</td>\n",
              "      <td>0.106280</td>\n",
              "      <td>0.997226</td>\n",
              "    </tr>\n",
              "    <tr>\n",
              "      <th>5</th>\n",
              "      <td>0.015038</td>\n",
              "      <td>0.106280</td>\n",
              "      <td>0.995462</td>\n",
              "    </tr>\n",
              "    <tr>\n",
              "      <th>6</th>\n",
              "      <td>0.015038</td>\n",
              "      <td>0.178744</td>\n",
              "      <td>0.968147</td>\n",
              "    </tr>\n",
              "    <tr>\n",
              "      <th>7</th>\n",
              "      <td>0.022556</td>\n",
              "      <td>0.178744</td>\n",
              "      <td>0.967209</td>\n",
              "    </tr>\n",
              "    <tr>\n",
              "      <th>9</th>\n",
              "      <td>0.030075</td>\n",
              "      <td>0.222222</td>\n",
              "      <td>0.950419</td>\n",
              "    </tr>\n",
              "    <tr>\n",
              "      <th>8</th>\n",
              "      <td>0.022556</td>\n",
              "      <td>0.222222</td>\n",
              "      <td>0.953983</td>\n",
              "    </tr>\n",
              "  </tbody>\n",
              "</table>\n",
              "</div>"
            ],
            "text/plain": [
              "   false positive rate  true positive rate  thresholds\n",
              "0             0.000000            0.000000    1.999999\n",
              "1             0.000000            0.004831    0.999999\n",
              "2             0.000000            0.062802    0.999317\n",
              "3             0.007519            0.062802    0.999281\n",
              "4             0.007519            0.106280    0.997226\n",
              "5             0.015038            0.106280    0.995462\n",
              "6             0.015038            0.178744    0.968147\n",
              "7             0.022556            0.178744    0.967209\n",
              "9             0.030075            0.222222    0.950419\n",
              "8             0.022556            0.222222    0.953983"
            ]
          },
          "metadata": {},
          "execution_count": 317
        }
      ]
    },
    {
      "cell_type": "markdown",
      "metadata": {
        "id": "_lZgKB6q6hZU"
      },
      "source": [
        "###Random Forest"
      ]
    },
    {
      "cell_type": "code",
      "metadata": {
        "colab": {
          "base_uri": "https://localhost:8080/",
          "height": 531
        },
        "id": "NwsrDRHy6gPz",
        "outputId": "3747d3f4-5b75-4f51-9de1-2d6a2f1c006b"
      },
      "source": [
        "#Plot top 15 feature importances\n",
        "importances_rfc = tuned_model_rfc.named_steps['randomforestclassifier'].feature_importances_\n",
        "df_importances_rfc = pd.DataFrame(data=importances_rfc, index=X_train.columns, columns=['importance'])\n",
        "\n",
        "fig, ax = plt.subplots(1,1, figsize=(8,8))\n",
        "df_importances_rfc.sort_values(by='importance').tail(n=20).plot(kind='barh', ax=ax)\n",
        "ax.set_title('Random Forest: Top 20 Features Predicting MI Complications')\n",
        "ax.set_xlabel('Importance')\n",
        "ax.set_ylabel('Feature')"
      ],
      "execution_count": 318,
      "outputs": [
        {
          "output_type": "execute_result",
          "data": {
            "text/plain": [
              "Text(0, 0.5, 'Feature')"
            ]
          },
          "metadata": {},
          "execution_count": 318
        },
        {
          "output_type": "display_data",
          "data": {
            "image/png": "[encoded data removed]",
            "text/plain": [
              "<Figure size 576x576 with 1 Axes>"
            ]
          },
          "metadata": {
            "needs_background": "light"
          }
        }
      ]
    },
    {
      "cell_type": "code",
      "metadata": {
        "colab": {
          "base_uri": "https://localhost:8080/",
          "height": 497
        },
        "id": "XLQmxp9wVydF",
        "outputId": "21bf446f-441e-4855-f55a-40330720d2cb"
      },
      "source": [
        "#confusion matrix\n",
        "\n",
        "plot_confusion_matrix(tuned_model_rfc, X_test, y_test, display_labels=['None', 'Complication'])\n",
        "print(classification_report(y_test, tuned_model_rfc.predict(X_test)))"
      ],
      "execution_count": 319,
      "outputs": [
        {
          "output_type": "stream",
          "name": "stderr",
          "text": [
            "/usr/local/lib/python3.7/dist-packages/sklearn/utils/deprecation.py:87: FutureWarning: Function plot_confusion_matrix is deprecated; Function `plot_confusion_matrix` is deprecated in 1.0 and will be removed in 1.2. Use one of the class methods: ConfusionMatrixDisplay.from_predictions or ConfusionMatrixDisplay.from_estimator.\n",
            "  warnings.warn(msg, category=FutureWarning)\n"
          ]
        },
        {
          "output_type": "stream",
          "name": "stdout",
          "text": [
            "              precision    recall  f1-score   support\n",
            "\n",
            "           0       0.72      0.51      0.60       133\n",
            "           1       0.74      0.87      0.80       207\n",
            "\n",
            "    accuracy                           0.73       340\n",
            "   macro avg       0.73      0.69      0.70       340\n",
            "weighted avg       0.73      0.73      0.72       340\n",
            "\n"
          ]
        },
        {
          "output_type": "display_data",
          "data": {
            "image/png": "[encoded data removed]",
            "text/plain": [
              "<Figure size 432x288 with 2 Axes>"
            ]
          },
          "metadata": {
            "needs_background": "light"
          }
        }
      ]
    },
    {
      "cell_type": "code",
      "metadata": {
        "colab": {
          "base_uri": "https://localhost:8080/",
          "height": 297
        },
        "id": "EpBLduQOV918",
        "outputId": "ac94db28-856d-403b-a016-72c162797905"
      },
      "source": [
        "#roc, auc\n",
        "fpr, tpr, thresholds = roc_curve(y_test, tuned_model_rfc.predict_proba(X_test)[:,-1])\n",
        "\n",
        "df_rfc_rocauc = pd.DataFrame({'false positive rate': fpr, 'true positive rate': tpr, 'thresholds': thresholds})\n",
        "df_rfc_rocauc.plot(x='false positive rate', y=['true positive rate'])"
      ],
      "execution_count": 320,
      "outputs": [
        {
          "output_type": "execute_result",
          "data": {
            "text/plain": [
              "<matplotlib.axes._subplots.AxesSubplot at 0x7f3d6b742650>"
            ]
          },
          "metadata": {},
          "execution_count": 320
        },
        {
          "output_type": "display_data",
          "data": {
            "image/png": "[encoded data removed]",
            "text/plain": [
              "<Figure size 432x288 with 1 Axes>"
            ]
          },
          "metadata": {
            "needs_background": "light"
          }
        }
      ]
    },
    {
      "cell_type": "code",
      "metadata": {
        "colab": {
          "base_uri": "https://localhost:8080/",
          "height": 358
        },
        "id": "Vsptwo1nbvLj",
        "outputId": "717db871-7657-4206-cedb-c38fe20049b4"
      },
      "source": [
        "df_rfc_rocauc.sort_values(by='true positive rate', ascending=True).head(10)"
      ],
      "execution_count": 321,
      "outputs": [
        {
          "output_type": "execute_result",
          "data": {
            "text/html": [
              "<div>\n",
              "<style scoped>\n",
              "    .dataframe tbody tr th:only-of-type {\n",
              "        vertical-align: middle;\n",
              "    }\n",
              "\n",
              "    .dataframe tbody tr th {\n",
              "        vertical-align: top;\n",
              "    }\n",
              "\n",
              "    .dataframe thead th {\n",
              "        text-align: right;\n",
              "    }\n",
              "</style>\n",
              "<table border=\"1\" class=\"dataframe\">\n",
              "  <thead>\n",
              "    <tr style=\"text-align: right;\">\n",
              "      <th></th>\n",
              "      <th>false positive rate</th>\n",
              "      <th>true positive rate</th>\n",
              "      <th>thresholds</th>\n",
              "    </tr>\n",
              "  </thead>\n",
              "  <tbody>\n",
              "    <tr>\n",
              "      <th>0</th>\n",
              "      <td>0.000000</td>\n",
              "      <td>0.000000</td>\n",
              "      <td>1.953333</td>\n",
              "    </tr>\n",
              "    <tr>\n",
              "      <th>1</th>\n",
              "      <td>0.000000</td>\n",
              "      <td>0.004831</td>\n",
              "      <td>0.953333</td>\n",
              "    </tr>\n",
              "    <tr>\n",
              "      <th>2</th>\n",
              "      <td>0.000000</td>\n",
              "      <td>0.028986</td>\n",
              "      <td>0.900000</td>\n",
              "    </tr>\n",
              "    <tr>\n",
              "      <th>3</th>\n",
              "      <td>0.000000</td>\n",
              "      <td>0.038647</td>\n",
              "      <td>0.896667</td>\n",
              "    </tr>\n",
              "    <tr>\n",
              "      <th>4</th>\n",
              "      <td>0.000000</td>\n",
              "      <td>0.154589</td>\n",
              "      <td>0.830000</td>\n",
              "    </tr>\n",
              "    <tr>\n",
              "      <th>5</th>\n",
              "      <td>0.007519</td>\n",
              "      <td>0.159420</td>\n",
              "      <td>0.826667</td>\n",
              "    </tr>\n",
              "    <tr>\n",
              "      <th>6</th>\n",
              "      <td>0.007519</td>\n",
              "      <td>0.207729</td>\n",
              "      <td>0.803333</td>\n",
              "    </tr>\n",
              "    <tr>\n",
              "      <th>7</th>\n",
              "      <td>0.015038</td>\n",
              "      <td>0.207729</td>\n",
              "      <td>0.801198</td>\n",
              "    </tr>\n",
              "    <tr>\n",
              "      <th>8</th>\n",
              "      <td>0.015038</td>\n",
              "      <td>0.217391</td>\n",
              "      <td>0.796667</td>\n",
              "    </tr>\n",
              "    <tr>\n",
              "      <th>9</th>\n",
              "      <td>0.037594</td>\n",
              "      <td>0.217391</td>\n",
              "      <td>0.790000</td>\n",
              "    </tr>\n",
              "  </tbody>\n",
              "</table>\n",
              "</div>"
            ],
            "text/plain": [
              "   false positive rate  true positive rate  thresholds\n",
              "0             0.000000            0.000000    1.953333\n",
              "1             0.000000            0.004831    0.953333\n",
              "2             0.000000            0.028986    0.900000\n",
              "3             0.000000            0.038647    0.896667\n",
              "4             0.000000            0.154589    0.830000\n",
              "5             0.007519            0.159420    0.826667\n",
              "6             0.007519            0.207729    0.803333\n",
              "7             0.015038            0.207729    0.801198\n",
              "8             0.015038            0.217391    0.796667\n",
              "9             0.037594            0.217391    0.790000"
            ]
          },
          "metadata": {},
          "execution_count": 321
        }
      ]
    },
    {
      "cell_type": "markdown",
      "metadata": {
        "id": "lfWfultzaOa8"
      },
      "source": [
        "####Permutations"
      ]
    },
    {
      "cell_type": "code",
      "metadata": {
        "id": "v8v-TnbTaU35"
      },
      "source": [
        "#test permutations of all features\n",
        "perm_features = list(df_importances_rfc.index)\n",
        "\n",
        "test_accs = []\n",
        "perm_accs = []\n",
        "\n",
        "for f in perm_features:\n",
        "  X_test_perm = X_test.copy()\n",
        "  X_test_perm = pd.DataFrame(data=SimpleImputer().fit_transform(X_test_perm), columns=X_test_perm.columns)\n",
        "  X_test_perm[f] = np.random.permutation(X_test_perm[f])\n",
        "\n",
        "  test_accs.append(tuned_model_rfc.score(X_test, y_test))\n",
        "  perm_accs.append(tuned_model_rfc.score(X_test_perm, y_test))\n"
      ],
      "execution_count": 323,
      "outputs": []
    },
    {
      "cell_type": "code",
      "metadata": {
        "id": "6jkCd0YQdEUb"
      },
      "source": [
        "df_perm = pd.DataFrame(data={'Test Accuracy': test_accs, 'Permutation Accuracy': perm_accs})\n",
        "df_perm['Change'] = df_perm['Test Accuracy'] - df_perm['Permutation Accuracy']\n",
        "df_perm.index = perm_features"
      ],
      "execution_count": 324,
      "outputs": []
    },
    {
      "cell_type": "code",
      "metadata": {
        "colab": {
          "base_uri": "https://localhost:8080/",
          "height": 358
        },
        "id": "NrJUTBuk0tOO",
        "outputId": "3f26005c-347c-42b1-de86-2986e15d5791"
      },
      "source": [
        "df_perm.sort_values(by='Change', ascending=False).head(n=10)"
      ],
      "execution_count": 330,
      "outputs": [
        {
          "output_type": "execute_result",
          "data": {
            "text/html": [
              "<div>\n",
              "<style scoped>\n",
              "    .dataframe tbody tr th:only-of-type {\n",
              "        vertical-align: middle;\n",
              "    }\n",
              "\n",
              "    .dataframe tbody tr th {\n",
              "        vertical-align: top;\n",
              "    }\n",
              "\n",
              "    .dataframe thead th {\n",
              "        text-align: right;\n",
              "    }\n",
              "</style>\n",
              "<table border=\"1\" class=\"dataframe\">\n",
              "  <thead>\n",
              "    <tr style=\"text-align: right;\">\n",
              "      <th></th>\n",
              "      <th>Test Accuracy</th>\n",
              "      <th>Permutation Accuracy</th>\n",
              "      <th>Change</th>\n",
              "    </tr>\n",
              "  </thead>\n",
              "  <tbody>\n",
              "    <tr>\n",
              "      <th>AGE</th>\n",
              "      <td>0.732353</td>\n",
              "      <td>0.697059</td>\n",
              "      <td>0.035294</td>\n",
              "    </tr>\n",
              "    <tr>\n",
              "      <th>ZSN_A</th>\n",
              "      <td>0.732353</td>\n",
              "      <td>0.700000</td>\n",
              "      <td>0.032353</td>\n",
              "    </tr>\n",
              "    <tr>\n",
              "      <th>ZAB_LEG_02</th>\n",
              "      <td>0.732353</td>\n",
              "      <td>0.708824</td>\n",
              "      <td>0.023529</td>\n",
              "    </tr>\n",
              "    <tr>\n",
              "      <th>NITR_S</th>\n",
              "      <td>0.732353</td>\n",
              "      <td>0.708824</td>\n",
              "      <td>0.023529</td>\n",
              "    </tr>\n",
              "    <tr>\n",
              "      <th>ROE</th>\n",
              "      <td>0.732353</td>\n",
              "      <td>0.711765</td>\n",
              "      <td>0.020588</td>\n",
              "    </tr>\n",
              "    <tr>\n",
              "      <th>NA_BLOOD</th>\n",
              "      <td>0.732353</td>\n",
              "      <td>0.714706</td>\n",
              "      <td>0.017647</td>\n",
              "    </tr>\n",
              "    <tr>\n",
              "      <th>INF_ANAM</th>\n",
              "      <td>0.732353</td>\n",
              "      <td>0.717647</td>\n",
              "      <td>0.014706</td>\n",
              "    </tr>\n",
              "    <tr>\n",
              "      <th>RITM_ECG_P_01</th>\n",
              "      <td>0.732353</td>\n",
              "      <td>0.717647</td>\n",
              "      <td>0.014706</td>\n",
              "    </tr>\n",
              "    <tr>\n",
              "      <th>ENDOCR_01</th>\n",
              "      <td>0.732353</td>\n",
              "      <td>0.717647</td>\n",
              "      <td>0.014706</td>\n",
              "    </tr>\n",
              "    <tr>\n",
              "      <th>TIME_B_S</th>\n",
              "      <td>0.732353</td>\n",
              "      <td>0.717647</td>\n",
              "      <td>0.014706</td>\n",
              "    </tr>\n",
              "  </tbody>\n",
              "</table>\n",
              "</div>"
            ],
            "text/plain": [
              "               Test Accuracy  Permutation Accuracy    Change\n",
              "AGE                 0.732353              0.697059  0.035294\n",
              "ZSN_A               0.732353              0.700000  0.032353\n",
              "ZAB_LEG_02          0.732353              0.708824  0.023529\n",
              "NITR_S              0.732353              0.708824  0.023529\n",
              "ROE                 0.732353              0.711765  0.020588\n",
              "NA_BLOOD            0.732353              0.714706  0.017647\n",
              "INF_ANAM            0.732353              0.717647  0.014706\n",
              "RITM_ECG_P_01       0.732353              0.717647  0.014706\n",
              "ENDOCR_01           0.732353              0.717647  0.014706\n",
              "TIME_B_S            0.732353              0.717647  0.014706"
            ]
          },
          "metadata": {},
          "execution_count": 330
        }
      ]
    },
    {
      "cell_type": "markdown",
      "metadata": {
        "id": "oRnVd1nK6mNT"
      },
      "source": [
        "###Boosted Model"
      ]
    },
    {
      "cell_type": "code",
      "metadata": {
        "colab": {
          "base_uri": "https://localhost:8080/",
          "height": 531
        },
        "id": "QctT7K451KjA",
        "outputId": "e8acb69a-f37b-494f-b45f-fe6f24a5b7bf"
      },
      "source": [
        "#Plot top 15 feature importances\n",
        "importances_ada = tuned_ada.named_steps['adaboostclassifier'].feature_importances_\n",
        "df_importances_ada = pd.DataFrame(data=importances_ada, index=X_train.columns, columns=['importance'])\n",
        "\n",
        "fig, ax = plt.subplots(1,1, figsize=(8,8))\n",
        "df_importances_ada.sort_values(by='importance').tail(n=20).plot(kind='barh', ax=ax)\n",
        "ax.set_title('Ada Boost: Top 20 Features Predicting MI Complications')\n",
        "ax.set_xlabel('Importance')\n",
        "ax.set_ylabel('Feature')"
      ],
      "execution_count": 331,
      "outputs": [
        {
          "output_type": "execute_result",
          "data": {
            "text/plain": [
              "Text(0, 0.5, 'Feature')"
            ]
          },
          "metadata": {},
          "execution_count": 331
        },
        {
          "output_type": "display_data",
          "data": {
            "image/png": "[encoded data removed]",
            "text/plain": [
              "<Figure size 576x576 with 1 Axes>"
            ]
          },
          "metadata": {
            "needs_background": "light"
          }
        }
      ]
    },
    {
      "cell_type": "code",
      "metadata": {
        "colab": {
          "base_uri": "https://localhost:8080/",
          "height": 297
        },
        "id": "7KgJCFVY1zJW",
        "outputId": "d600fbaf-8fb7-4c03-dbc2-ce02954aa5d6"
      },
      "source": [
        "#roc, auc\n",
        "fpr, tpr, thresholds = roc_curve(y_test, tuned_ada.predict_proba(X_test)[:,-1])\n",
        "\n",
        "df_ada_rocauc = pd.DataFrame({'false positive rate': fpr, 'true positive rate': tpr, 'thresholds': thresholds})\n",
        "df_ada_rocauc.plot(x='false positive rate', y=['true positive rate'])"
      ],
      "execution_count": 333,
      "outputs": [
        {
          "output_type": "execute_result",
          "data": {
            "text/plain": [
              "<matplotlib.axes._subplots.AxesSubplot at 0x7f3d5f8c57d0>"
            ]
          },
          "metadata": {},
          "execution_count": 333
        },
        {
          "output_type": "display_data",
          "data": {
            "image/png": "[encoded data removed]",
            "text/plain": [
              "<Figure size 432x288 with 1 Axes>"
            ]
          },
          "metadata": {
            "needs_background": "light"
          }
        }
      ]
    },
    {
      "cell_type": "code",
      "metadata": {
        "colab": {
          "base_uri": "https://localhost:8080/",
          "height": 495
        },
        "id": "RtpWYGxW1eYu",
        "outputId": "c35ed2fd-076d-4d70-ffab-e8a114e8b79e"
      },
      "source": [
        "#confusion matrix\n",
        "\n",
        "plot_confusion_matrix(tuned_ada, X_test, y_test, display_labels=['None', 'Complication'])\n",
        "print(classification_report(y_test, tuned_ada.predict(X_test)))"
      ],
      "execution_count": 332,
      "outputs": [
        {
          "output_type": "stream",
          "name": "stderr",
          "text": [
            "/usr/local/lib/python3.7/dist-packages/sklearn/utils/deprecation.py:87: FutureWarning: Function plot_confusion_matrix is deprecated; Function `plot_confusion_matrix` is deprecated in 1.0 and will be removed in 1.2. Use one of the class methods: ConfusionMatrixDisplay.from_predictions or ConfusionMatrixDisplay.from_estimator.\n",
            "  warnings.warn(msg, category=FutureWarning)\n"
          ]
        },
        {
          "output_type": "stream",
          "name": "stdout",
          "text": [
            "              precision    recall  f1-score   support\n",
            "\n",
            "           0       0.67      0.63      0.65       133\n",
            "           1       0.77      0.80      0.79       207\n",
            "\n",
            "    accuracy                           0.74       340\n",
            "   macro avg       0.72      0.72      0.72       340\n",
            "weighted avg       0.73      0.74      0.73       340\n",
            "\n"
          ]
        },
        {
          "output_type": "display_data",
          "data": {
            "image/png": "[encoded data removed]",
            "text/plain": [
              "<Figure size 432x288 with 2 Axes>"
            ]
          },
          "metadata": {
            "needs_background": "light"
          }
        }
      ]
    },
    {
      "cell_type": "code",
      "metadata": {
        "colab": {
          "base_uri": "https://localhost:8080/",
          "height": 358
        },
        "id": "zTwkJiOU17vK",
        "outputId": "73367dd4-a717-4bec-b6c6-c662c9810382"
      },
      "source": [
        "df_ada_rocauc.sort_values(by='true positive rate', ascending=True).head(10)"
      ],
      "execution_count": 334,
      "outputs": [
        {
          "output_type": "execute_result",
          "data": {
            "text/html": [
              "<div>\n",
              "<style scoped>\n",
              "    .dataframe tbody tr th:only-of-type {\n",
              "        vertical-align: middle;\n",
              "    }\n",
              "\n",
              "    .dataframe tbody tr th {\n",
              "        vertical-align: top;\n",
              "    }\n",
              "\n",
              "    .dataframe thead th {\n",
              "        text-align: right;\n",
              "    }\n",
              "</style>\n",
              "<table border=\"1\" class=\"dataframe\">\n",
              "  <thead>\n",
              "    <tr style=\"text-align: right;\">\n",
              "      <th></th>\n",
              "      <th>false positive rate</th>\n",
              "      <th>true positive rate</th>\n",
              "      <th>thresholds</th>\n",
              "    </tr>\n",
              "  </thead>\n",
              "  <tbody>\n",
              "    <tr>\n",
              "      <th>0</th>\n",
              "      <td>0.000000</td>\n",
              "      <td>0.000000</td>\n",
              "      <td>1.898947</td>\n",
              "    </tr>\n",
              "    <tr>\n",
              "      <th>1</th>\n",
              "      <td>0.000000</td>\n",
              "      <td>0.004831</td>\n",
              "      <td>0.898947</td>\n",
              "    </tr>\n",
              "    <tr>\n",
              "      <th>2</th>\n",
              "      <td>0.000000</td>\n",
              "      <td>0.111111</td>\n",
              "      <td>0.553582</td>\n",
              "    </tr>\n",
              "    <tr>\n",
              "      <th>3</th>\n",
              "      <td>0.007519</td>\n",
              "      <td>0.111111</td>\n",
              "      <td>0.550397</td>\n",
              "    </tr>\n",
              "    <tr>\n",
              "      <th>4</th>\n",
              "      <td>0.007519</td>\n",
              "      <td>0.173913</td>\n",
              "      <td>0.533950</td>\n",
              "    </tr>\n",
              "    <tr>\n",
              "      <th>5</th>\n",
              "      <td>0.015038</td>\n",
              "      <td>0.173913</td>\n",
              "      <td>0.533890</td>\n",
              "    </tr>\n",
              "    <tr>\n",
              "      <th>6</th>\n",
              "      <td>0.015038</td>\n",
              "      <td>0.188406</td>\n",
              "      <td>0.532398</td>\n",
              "    </tr>\n",
              "    <tr>\n",
              "      <th>7</th>\n",
              "      <td>0.022556</td>\n",
              "      <td>0.188406</td>\n",
              "      <td>0.532141</td>\n",
              "    </tr>\n",
              "    <tr>\n",
              "      <th>8</th>\n",
              "      <td>0.022556</td>\n",
              "      <td>0.289855</td>\n",
              "      <td>0.523419</td>\n",
              "    </tr>\n",
              "    <tr>\n",
              "      <th>9</th>\n",
              "      <td>0.030075</td>\n",
              "      <td>0.289855</td>\n",
              "      <td>0.523359</td>\n",
              "    </tr>\n",
              "  </tbody>\n",
              "</table>\n",
              "</div>"
            ],
            "text/plain": [
              "   false positive rate  true positive rate  thresholds\n",
              "0             0.000000            0.000000    1.898947\n",
              "1             0.000000            0.004831    0.898947\n",
              "2             0.000000            0.111111    0.553582\n",
              "3             0.007519            0.111111    0.550397\n",
              "4             0.007519            0.173913    0.533950\n",
              "5             0.015038            0.173913    0.533890\n",
              "6             0.015038            0.188406    0.532398\n",
              "7             0.022556            0.188406    0.532141\n",
              "8             0.022556            0.289855    0.523419\n",
              "9             0.030075            0.289855    0.523359"
            ]
          },
          "metadata": {},
          "execution_count": 334
        }
      ]
    },
    {
      "cell_type": "markdown",
      "metadata": {
        "id": "P2yLr7sLWKed"
      },
      "source": [
        "###Comparison\n"
      ]
    },
    {
      "cell_type": "code",
      "metadata": {
        "colab": {
          "base_uri": "https://localhost:8080/",
          "height": 406
        },
        "id": "owNWLZuGWI_n",
        "outputId": "8a1760ad-66af-4fb2-a94d-89ad97a77364"
      },
      "source": [
        "#Compared ROC curves for all models\n",
        "\n",
        "lr_roc_curve = plot_roc_curve(model_lr, X_test, y_test, \n",
        "                              name='logistic_regression');\n",
        "\n",
        "rfc_roc_curve = plot_roc_curve(tuned_model_rfc, X_test, y_test, \n",
        "                               ax=lr_roc_curve.ax_, name='random_forest');\n",
        "\n",
        "ada_roc_curve = plot_roc_curve(tuned_ada, X_test, y_test, ax=lr_roc_curve.ax_, \n",
        "                               name='ada boost')"
      ],
      "execution_count": 337,
      "outputs": [
        {
          "output_type": "stream",
          "name": "stderr",
          "text": [
            "/usr/local/lib/python3.7/dist-packages/sklearn/utils/deprecation.py:87: FutureWarning: Function plot_roc_curve is deprecated; Function `plot_roc_curve` is deprecated in 1.0 and will be removed in 1.2. Use one of the class methods: RocCurveDisplay.from_predictions or RocCurveDisplay.from_estimator.\n",
            "  warnings.warn(msg, category=FutureWarning)\n",
            "/usr/local/lib/python3.7/dist-packages/sklearn/utils/deprecation.py:87: FutureWarning: Function plot_roc_curve is deprecated; Function `plot_roc_curve` is deprecated in 1.0 and will be removed in 1.2. Use one of the class methods: RocCurveDisplay.from_predictions or RocCurveDisplay.from_estimator.\n",
            "  warnings.warn(msg, category=FutureWarning)\n",
            "/usr/local/lib/python3.7/dist-packages/sklearn/utils/deprecation.py:87: FutureWarning: Function plot_roc_curve is deprecated; Function `plot_roc_curve` is deprecated in 1.0 and will be removed in 1.2. Use one of the class methods: RocCurveDisplay.from_predictions or RocCurveDisplay.from_estimator.\n",
            "  warnings.warn(msg, category=FutureWarning)\n"
          ]
        },
        {
          "output_type": "display_data",
          "data": {
            "image/png": "[encoded data removed]",
            "text/plain": [
              "<Figure size 432x288 with 1 Axes>"
            ]
          },
          "metadata": {
            "needs_background": "light"
          }
        }
      ]
    },
    {
      "cell_type": "markdown",
      "metadata": {
        "id": "HTRqnPkl3mWv"
      },
      "source": [
        "# Summary"
      ]
    },
    {
      "cell_type": "markdown",
      "metadata": {
        "id": "HHJ9mCem3-OQ"
      },
      "source": [
        "\n",
        "\n",
        "*   Linear Regression Test Accuracy: 71.76%\n",
        "*   Random Forest Test Accuracy: 73.24%\n",
        "*   Ada Boost Test Accuracy: 73.53%\n",
        "\n"
      ]
    }
  ]
}